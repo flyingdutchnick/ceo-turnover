{
 "cells": [
  {
   "cell_type": "code",
   "execution_count": 1,
   "metadata": {},
   "outputs": [],
   "source": [
    "import pandas as pd\n",
    "import numpy as np\n",
    "from datetime import datetime\n",
    "from tqdm import tqdm"
   ]
  },
  {
   "cell_type": "code",
   "execution_count": 2,
   "metadata": {},
   "outputs": [
    {
     "name": "stderr",
     "output_type": "stream",
     "text": [
      "/Users/nicoubide/anaconda3/lib/python3.7/site-packages/IPython/core/interactiveshell.py:3020: DtypeWarning: Columns (0,2) have mixed types. Specify dtype option on import or set low_memory=False.\n",
      "  interactivity=interactivity, compiler=compiler, result=result)\n"
     ]
    }
   ],
   "source": [
    "#importing the data\n",
    "age_data = pd.read_csv(\"age_data.csv\")\n",
    "tenure_data = pd.read_csv(\"tenure_data.csv\")"
   ]
  },
  {
   "cell_type": "markdown",
   "metadata": {},
   "source": [
    "First we're going to clean the age data"
   ]
  },
  {
   "cell_type": "code",
   "execution_count": 3,
   "metadata": {},
   "outputs": [],
   "source": [
    "#Creating NaN consitency\n",
    "age_data.fillna(\"NaN\", inplace=True)\n",
    "age_data[\"DOB\"].replace(\"n.a.\", \"NaN\", inplace=True)"
   ]
  },
  {
   "cell_type": "code",
   "execution_count": 4,
   "metadata": {},
   "outputs": [],
   "source": [
    "#Creating a function that will get the \"DOB\" column in the format we want. \"DOB\" column has\n",
    "#4 different types of inputs\n",
    "\n",
    "#Type 1: 01 Apr 1918\n",
    "#Type 2: Sep 1945\n",
    "#Type 3: \"1945\"\n",
    "#Type 4: 1945\n",
    "#Type 5: \"NaN\"\n",
    "\n",
    "def correct_dob(date):\n",
    "    if date == \"NaN\":\n",
    "        return date\n",
    "    elif type(date) == int:\n",
    "        return pd.to_datetime(date, format=\"%Y\").strftime(\"%Y%m%d\")\n",
    "    elif len(date.split(\" \")) == 1:\n",
    "        return pd.to_datetime(date, format=\"%Y\").strftime(\"%Y%m%d\")\n",
    "    elif len(date.split(\" \")) == 2:\n",
    "        return pd.to_datetime(date, format=\"%b %Y\").strftime(\"%Y%m%d\")\n",
    "    elif len(date.split(\" \")) == 3:\n",
    "        return pd.to_datetime(date, format=\"%d %b %Y\").strftime(\"%Y%m%d\")\n",
    "    else:\n",
    "        return \"ERROR\"\n",
    "\n",
    "dob_vector = np.vectorize(correct_dob)"
   ]
  },
  {
   "cell_type": "code",
   "execution_count": 5,
   "metadata": {},
   "outputs": [],
   "source": [
    "#Updating the DOB column\n",
    "age_data[\"DOB\"] = dob_vector(age_data[\"DOB\"])"
   ]
  },
  {
   "cell_type": "code",
   "execution_count": 6,
   "metadata": {},
   "outputs": [],
   "source": [
    "#Age NANs are being left to be dealt with later"
   ]
  },
  {
   "cell_type": "markdown",
   "metadata": {},
   "source": [
    "Now we're cleaning the tenure data"
   ]
  },
  {
   "cell_type": "code",
   "execution_count": 7,
   "metadata": {},
   "outputs": [],
   "source": [
    "#Dropping the entries that either have an \"N\" in the StartDate or EndDate\n",
    "n_list = list(np.where(np.logical_or(tenure_data[\"DateEndRole\"]==\"N\",tenure_data[\"DateStartRole\"]==\"N\"))[0])\n",
    "tenure_data.drop(n_list, inplace=True)"
   ]
  },
  {
   "cell_type": "code",
   "execution_count": 8,
   "metadata": {},
   "outputs": [],
   "source": [
    "#Helper function to update \"C\" entry to today's date\n",
    "def update_end(date):\n",
    "    if date == \"C\":\n",
    "        return -1\n",
    "    else:\n",
    "        return date\n",
    "\n",
    "end_vector = np.vectorize(update_end)"
   ]
  },
  {
   "cell_type": "code",
   "execution_count": 9,
   "metadata": {},
   "outputs": [],
   "source": [
    "#Updating the \"C\" entry and converting start and end dates to datetime format\n",
    "tenure_data[\"DateEndRole\"] = end_vector(tenure_data[\"DateEndRole\"])\n",
    "tenure_data[\"date_end_role\"] = pd.to_datetime(tenure_data[\"DateEndRole\"], format=\"%Y%m%d\")\n",
    "tenure_data[\"date_start_role\"] = pd.to_datetime(tenure_data[\"DateStartRole\"], format=\"%Y%m%d\")"
   ]
  },
  {
   "cell_type": "code",
   "execution_count": 10,
   "metadata": {},
   "outputs": [],
   "source": [
    "#Only keeping CEOs\n",
    "tenure_data = tenure_data[tenure_data[\"RoleName\"].str.contains(\"CEO\")]"
   ]
  },
  {
   "cell_type": "markdown",
   "metadata": {},
   "source": [
    "Now we can join the two datasets"
   ]
  },
  {
   "cell_type": "code",
   "execution_count": 11,
   "metadata": {},
   "outputs": [],
   "source": [
    "#Executing the inner join\n",
    "joined_data = pd.merge(left=tenure_data, right=age_data)"
   ]
  },
  {
   "cell_type": "markdown",
   "metadata": {},
   "source": [
    "Defining functions that will help us create the panel dataset"
   ]
  },
  {
   "cell_type": "code",
   "execution_count": 48,
   "metadata": {},
   "outputs": [],
   "source": [
    "def years_column(date_range):\n",
    "    years = date_range.strftime(\"%Y\").tolist()\n",
    "    return years"
   ]
  },
  {
   "cell_type": "code",
   "execution_count": 49,
   "metadata": {},
   "outputs": [],
   "source": [
    "def months_column(date_range):\n",
    "    months = date_range.strftime(\"%m\").tolist()\n",
    "    return months"
   ]
  },
  {
   "cell_type": "code",
   "execution_count": 86,
   "metadata": {},
   "outputs": [],
   "source": [
    "def id_column(_id_, n):\n",
    "    id_array = [_id_] * n\n",
    "    return id_array"
   ]
  },
  {
   "cell_type": "code",
   "execution_count": 19,
   "metadata": {},
   "outputs": [],
   "source": [
    "#Creating a function that will give us \"age\" in the desired format - Y.MMM\n",
    "def age_calculator(DOB, date):\n",
    "    months = np.datetime64(date, \"M\") - np.datetime64(DOB, \"M\")\n",
    "    age = months / np.timedelta64(12,'M')\n",
    "    return age\n",
    "\n",
    "#Vectorizing\n",
    "age_vector = np.vectorize(age_calculator, otypes=[np.float])"
   ]
  },
  {
   "cell_type": "code",
   "execution_count": 141,
   "metadata": {},
   "outputs": [],
   "source": [
    "def age_column(DOB, date_range):\n",
    "    #handling \"NaN\" value\n",
    "    if DOB == \"NaN\":\n",
    "        ages = [\"NaN\"] * len(date_range)\n",
    "    else:\n",
    "        dob = pd.period_range(start=DOB, periods=1 , freq='M').strftime(\"%Y-%m\").tolist()[0]\n",
    "        reference_dates = date_range.strftime(\"%Y-%m\").tolist()\n",
    "        ages = list(age_vector(dob, reference_dates))\n",
    "    return ages"
   ]
  },
  {
   "cell_type": "code",
   "execution_count": 189,
   "metadata": {},
   "outputs": [],
   "source": [
    "def make_panel(idx, row):\n",
    "   \n",
    "    #original df\n",
    "    original_df = pd.DataFrame(row).transpose()\n",
    "\n",
    "    #Declaring key variables\n",
    "    start = row[\"date_start_role\"]\n",
    "    end = pd.to_datetime('today') if row[\"date_end_role\"] == -1 else end = row[\"date_end_role\"]\n",
    "    date_range = pd.period_range(start=start, end=end, freq='M')\n",
    "    _id_ = row[\"DirectorID\"]\n",
    "    dob = row[\"DOB\"]\n",
    "    \n",
    "    #Creating the columns\n",
    "    # years = years_column(date_range)\n",
    "    # months = months_column(date_range)\n",
    "    ages = age_column(dob, date_range)\n",
    "    ids = id_column(_id_, len(date_range))\n",
    "    date = date_range\n",
    "    \n",
    "    #Creating the df to be appended\n",
    "    new_df = pd.DataFrame([date,ages,ids]).transpose()\n",
    "    new_df.columns = [\"date\", \"age\", \"director_id\"]\n",
    "    \n",
    "    #Executing the join\n",
    "    joined_df = pd.merge(left=original_df, right=new_df)\n",
    "    \n",
    "    return joined_df"
   ]
  },
  {
   "cell_type": "markdown",
   "metadata": {},
   "source": [
    "Now I need to find a way to efficiently apply the \"make_panel\" function to every row in the df"
   ]
  },
  {
   "cell_type": "code",
   "execution_count": 190,
   "metadata": {},
   "outputs": [],
   "source": [
    "#19 minutes to execute\n",
    "dfs = []\n",
    "\n",
    "for idx, row in tqdm(joined_data.iterrows(), total=joined_data.shape[0]):\n",
    "    curr_df = make_panel(idx, row)\n",
    "    dfs.append(curr_df)\n",
    "    \n",
    "panel_data = pd.concat(dfs)"
   ]
  },
  {
   "cell_type": "code",
   "execution_count": 3,
   "metadata": {},
   "outputs": [
    {
     "output_type": "error",
     "ename": "NameError",
     "evalue": "name 'master' is not defined",
     "traceback": [
      "\u001b[0;31m---------------------------------------------------------------------------\u001b[0m",
      "\u001b[0;31mNameError\u001b[0m                                 Traceback (most recent call last)",
      "\u001b[0;32m<ipython-input-3-a111d84ca1ce>\u001b[0m in \u001b[0;36m<module>\u001b[0;34m\u001b[0m\n\u001b[1;32m      1\u001b[0m \u001b[0;31m#Sorting values\u001b[0m\u001b[0;34m\u001b[0m\u001b[0;34m\u001b[0m\u001b[0;34m\u001b[0m\u001b[0m\n\u001b[0;32m----> 2\u001b[0;31m \u001b[0mpanel_data\u001b[0m \u001b[0;34m=\u001b[0m \u001b[0mmaster\u001b[0m\u001b[0;34m.\u001b[0m\u001b[0msort_values\u001b[0m\u001b[0;34m(\u001b[0m\u001b[0;34m[\u001b[0m\u001b[0;34m\"CompanyName\"\u001b[0m\u001b[0;34m,\u001b[0m\u001b[0;34m\"DirectorName\"\u001b[0m\u001b[0;34m,\u001b[0m\u001b[0;34m\"year\"\u001b[0m\u001b[0;34m,\u001b[0m\u001b[0;34m\"month\"\u001b[0m\u001b[0;34m]\u001b[0m\u001b[0;34m)\u001b[0m\u001b[0;34m\u001b[0m\u001b[0;34m\u001b[0m\u001b[0m\n\u001b[0m",
      "\u001b[0;31mNameError\u001b[0m: name 'master' is not defined"
     ]
    }
   ],
   "source": [
    "#Sorting values \n",
    "# panel_data panel_dataer.sort_values([\"CompanyName\"director_idme\"dateth\"])"
   ]
  },
  {
   "cell_type": "code",
   "execution_count": null,
   "metadata": {},
   "outputs": [],
   "source": [
    "def add_role_tenure(df):\n",
    "\n",
    "    ''' \n",
    "    Calculate role_tenure by simply taking the current date minus the date_start_role\n",
    "    '''\n",
    "    \n",
    "    df[\"role_tenure\"] = -1\n",
    "\n",
    "    for start_date, current_date in zip(df[\"date_start_role\"], df[\"date\"]):\n",
    "        df[\"role_tenure\"] = np.datetime64(current_date, \"M\") - np.datetime64(start_date, \"M\")\n",
    "    \n",
    "    df[\"role_tenure\"] = df[\"role_tenure\"] / np.timedelta64(12,'M')\n",
    "\n",
    "    return df"
   ]
  },
  {
   "cell_type": "code",
   "execution_count": null,
   "metadata": {},
   "outputs": [],
   "source": [
    "def add_company_tenure(df):\n",
    "    ''' \n",
    "    Calculate company_tenure (in months) by iterating over rows, incrementing tenure +1 for each row, \n",
    "    \n",
    "    '''\n",
    "\n",
    "    df[\"company_tenure\"] = -1\n",
    "    \n",
    "    for idx, row in tqdm(df.iterrows(), total=df.shape[0]): \n",
    "        if df.iloc[idx][\"director_id\"] != df.iloc[idx - 1][\"director_id\"]:\n",
    "            df.iloc[idx][\"company_tenure\"] = 0\n",
    "        elif df.iloc[idx][\"company_id\"] != df.iloc[idx - 1][\"company_id\"]:\n",
    "            df.iloc[idx][\"company_tenure\"] = 0\n",
    "        elif df.iloc[idx][\"date\"] != df.iloc[idx - 1][\"date\"]:\n",
    "            df.iloc[idx][\"company_tenure\"] = df.iloc[idx - 1][\"company_tenure\"] + 1 \n",
    "        else: \n",
    "            df.iloc(idx)[\"company_tenure\"] = df.iloc[idx - 1][\"company_tenure\"] \n",
    "        \n",
    "    return df    "
   ]
  },
  {
   "cell_type": "code",
   "execution_count": null,
   "metadata": {},
   "outputs": [],
   "source": [
    "panel_data = add_role_tenure(panel_data)"
   ]
  },
  {
   "cell_type": "code",
   "execution_count": 202,
   "metadata": {},
   "outputs": [],
   "source": [
    "#Resetting the index and dropping the index column\n",
    "panel_data.reset_index(inplace=True)\n",
    "panel_data.drop(columns=[\"index\"], inplace=True)"
   ]
  },
  {
   "cell_type": "code",
   "execution_count": 206,
   "metadata": {},
   "outputs": [],
   "source": [
    "panel_data.to_csv(\"panel_data.csv\")"
   ]
  }
 ],
 "metadata": {
  "kernelspec": {
   "display_name": "Python 3.7.7 64-bit ('.env': virtualenv)",
   "language": "python",
   "name": "python37764bitenvvirtualenv033912062db344fbbee4e9118966bca6"
  },
  "language_info": {
   "codemirror_mode": {
    "name": "ipython",
    "version": 3
   },
   "file_extension": ".py",
   "mimetype": "text/x-python",
   "name": "python",
   "nbconvert_exporter": "python",
   "pygments_lexer": "ipython3",
   "version": "3.7.7-final"
  }
 },
 "nbformat": 4,
 "nbformat_minor": 2
}