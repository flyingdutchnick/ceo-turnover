{
 "cells": [
  {
   "cell_type": "code",
   "execution_count": 1,
   "metadata": {},
   "outputs": [],
   "source": [
    "import pandas as pd\n",
    "import numpy as np\n",
    "from datetime import datetime"
   ]
  },
  {
   "cell_type": "code",
   "execution_count": 2,
   "metadata": {},
   "outputs": [
    {
     "name": "stderr",
     "output_type": "stream",
     "text": [
      "/Users/nicoubide/anaconda3/lib/python3.7/site-packages/IPython/core/interactiveshell.py:3020: DtypeWarning: Columns (0,2) have mixed types. Specify dtype option on import or set low_memory=False.\n",
      "  interactivity=interactivity, compiler=compiler, result=result)\n"
     ]
    }
   ],
   "source": [
    "#importing the data\n",
    "age_data = pd.read_csv(\"age_data.csv\")\n",
    "tenure_data = pd.read_csv(\"tenure_data.csv\")"
   ]
  },
  {
   "cell_type": "markdown",
   "metadata": {},
   "source": [
    "First we're going to clean the age data"
   ]
  },
  {
   "cell_type": "code",
   "execution_count": 3,
   "metadata": {},
   "outputs": [],
   "source": [
    "#Dropping the \"n.a.\" values of the DOB column and the NaN values of the nationality colum\n",
    "age_data.drop(np.where(age_data[\"DOB\"] == \"n.a.\")[0], inplace = True)\n",
    "\n",
    "#Dropping the NaN values in the entire dataframe\n",
    "age_data.dropna(inplace=True)"
   ]
  },
  {
   "cell_type": "code",
   "execution_count": 4,
   "metadata": {},
   "outputs": [],
   "source": [
    "#Creating a function that will get the \"DOB\" column in the format we want\n",
    "def correct_date_generator(date):\n",
    "    if type(date) == int:\n",
    "        correct_date = pd.to_datetime(date, format=\"%Y\").strftime(\"%Y%m%d\")\n",
    "    elif len(date.split(\" \")) == 1:\n",
    "        correct_date = pd.to_datetime(date, format=\"%Y\").strftime(\"%Y%m%d\")\n",
    "    elif len(date.split(\" \")) == 2:\n",
    "        correct_date = pd.to_datetime(date, format=\"%b %Y\").strftime(\"%Y%m%d\")\n",
    "    elif len(date.split(\" \")) == 3:\n",
    "        correct_date = pd.to_datetime(date, format=\"%d %b %Y\").strftime(\"%Y%m%d\")\n",
    "    else:\n",
    "        correct_date = \"ERROR\"\n",
    "    return correct_date"
   ]
  },
  {
   "cell_type": "code",
   "execution_count": 5,
   "metadata": {},
   "outputs": [],
   "source": [
    "#Updating the DOB column\n",
    "date_vector = np.vectorize(correct_date_generator)\n",
    "age_data[\"DOB\"] = date_vector(age_data[\"DOB\"])"
   ]
  },
  {
   "cell_type": "markdown",
   "metadata": {},
   "source": [
    "Now we're cleaning the tenure data"
   ]
  },
  {
   "cell_type": "code",
   "execution_count": 6,
   "metadata": {},
   "outputs": [],
   "source": [
    "#Dropping \"N\" (null) values in \"DateStartRole\" - CLEANER WAY TO DO THIS\n",
    "index_list = tenure_data[tenure_data[\"DateStartRole\"] == 'N'].index.tolist()\n",
    "tenure_data.drop(index_list, inplace = True)"
   ]
  },
  {
   "cell_type": "code",
   "execution_count": 7,
   "metadata": {},
   "outputs": [],
   "source": [
    "#Dropping \"N\" (null) values in \"DateEndRole\" - CLEANER WAY TO DO THIS\n",
    "index_list = tenure_data[tenure_data[\"DateEndRole\"] == 'N'].index.tolist()\n",
    "tenure_data.drop(index_list, inplace = True)"
   ]
  },
  {
   "cell_type": "code",
   "execution_count": 8,
   "metadata": {},
   "outputs": [],
   "source": [
    "#Creating a function that will update the \"C\" variable which means the director is\n",
    "#still in his role\n",
    "def update_date(date):\n",
    "    if date == \"C\":\n",
    "        return datetime.today().strftime('%Y%m%d')\n",
    "    else:\n",
    "        return date"
   ]
  },
  {
   "cell_type": "code",
   "execution_count": 9,
   "metadata": {},
   "outputs": [],
   "source": [
    "#Updating the \"DateEndRole\" column\n",
    "date_vector = np.vectorize(update_date)\n",
    "tenure_data[\"DateEndRole\"] = date_vector(tenure_data[\"DateEndRole\"])"
   ]
  },
  {
   "cell_type": "code",
   "execution_count": 10,
   "metadata": {},
   "outputs": [],
   "source": [
    "#Only keeping CEOs\n",
    "tenure_data = tenure_data[tenure_data[\"RoleName\"].str.contains(\"CEO\")]"
   ]
  },
  {
   "cell_type": "markdown",
   "metadata": {},
   "source": [
    "Now we can join the two datasets"
   ]
  },
  {
   "cell_type": "code",
   "execution_count": 11,
   "metadata": {},
   "outputs": [],
   "source": [
    "#Executing the inner join\n",
    "joined_data = pd.merge(left=tenure_data, right=age_data)"
   ]
  },
  {
   "cell_type": "code",
   "execution_count": 115,
   "metadata": {},
   "outputs": [],
   "source": [
    "#Creating a function that will give us \"age\" in the desired format - Y.MMM\n",
    "def age_calculator(DOB, date):\n",
    "    months = np.datetime64(date, \"M\") - np.datetime64(DOB, \"M\")\n",
    "    age = months / np.timedelta64(12,'M')\n",
    "    return age\n",
    "\n",
    "#Vectorizing\n",
    "age_vector = np.vectorize(age_calculator, otypes=[np.float])"
   ]
  },
  {
   "cell_type": "code",
   "execution_count": 116,
   "metadata": {},
   "outputs": [],
   "source": [
    "def make_panel(data, idx):\n",
    "\n",
    "    #Creating the years column\n",
    "    date_range = pd.period_range(start=data[\"DateStartRole\"][idx], end=data[\"DateEndRole\"][idx], freq='M')\n",
    "    years = date_range.strftime(\"%Y\").tolist()\n",
    "    \n",
    "    #Creating the CompanyID column\n",
    "    id_array = list([data[\"DirectorID\"][idx]]*len(years))\n",
    "    \n",
    "    #Creating the months column\n",
    "    months = date_range.strftime(\"%m\").tolist()\n",
    "    \n",
    "    #Getting the DOB in the right format\n",
    "    dob = pd.period_range(start=data[\"DOB\"][idx], periods=1 , freq='M').strftime(\"%Y-%m\").tolist()[0]\n",
    "    \n",
    "    #Creating a list of all the dates we want the age for\n",
    "    reference_dates = date_range.strftime(\"%Y-%m\").tolist()\n",
    "    \n",
    "    #Creating the ages column\n",
    "    ages = list(age_vector(dob, reference_dates))\n",
    "    \n",
    "    #Creating the dataframe to added to the master\n",
    "    current_df = pd.DataFrame([years,months,ages,id_array]).transpose()\n",
    "    current_df.columns = [\"year\", \"month\", \"age\",\"DirectorID\"]\n",
    "    current_df = current_df.merge(data)\n",
    "    \n",
    "    return current_df"
   ]
  },
  {
   "cell_type": "code",
   "execution_count": 157,
   "metadata": {},
   "outputs": [
    {
     "name": "stderr",
     "output_type": "stream",
     "text": [
      "/Users/nicoubide/anaconda3/lib/python3.7/site-packages/pandas/core/frame.py:6211: FutureWarning: Sorting because non-concatenation axis is not aligned. A future version\n",
      "of pandas will change to not sort by default.\n",
      "\n",
      "To accept the future behavior, pass 'sort=False'.\n",
      "\n",
      "To retain the current behavior and silence the warning, pass 'sort=True'.\n",
      "\n",
      "  sort=sort)\n"
     ]
    }
   ],
   "source": [
    "#This took 3 hours to run\n",
    "\n",
    "n = joined_data.shape[0]\n",
    "panel_data = pd.DataFrame()\n",
    "\n",
    "for i in np.arange(n):\n",
    "    curr_df = pd.DataFrame(joined_data.iloc[i]).transpose()\n",
    "    curr_panel = make_panel(curr_df, i)\n",
    "    panel_data = panel_data.append(curr_panel)"
   ]
  },
  {
   "cell_type": "code",
   "execution_count": 167,
   "metadata": {},
   "outputs": [],
   "source": [
    "#Sorting values\n",
    "panel_data = panel_data.sort_values([\"CompanyName\",\"DirectorName\",\"year\",\"month\"])"
   ]
  },
  {
   "cell_type": "code",
   "execution_count": 168,
   "metadata": {},
   "outputs": [],
   "source": [
    "#Reseting the index\n",
    "panel_data.reset_index(inplace=True)"
   ]
  },
  {
   "cell_type": "code",
   "execution_count": 171,
   "metadata": {},
   "outputs": [],
   "source": [
    "#Dropping old index\n",
    "panel_data.drop(columns=[\"index\"], inplace=True)"
   ]
  },
  {
   "cell_type": "code",
   "execution_count": 173,
   "metadata": {},
   "outputs": [],
   "source": [
    "panel_data.to_csv(\"panel_data.csv\")"
   ]
  },
  {
   "cell_type": "code",
   "execution_count": null,
   "metadata": {},
   "outputs": [],
   "source": []
  },
  {
   "cell_type": "code",
   "execution_count": null,
   "metadata": {},
   "outputs": [],
   "source": []
  },
  {
   "cell_type": "code",
   "execution_count": null,
   "metadata": {},
   "outputs": [],
   "source": []
  }
 ],
 "metadata": {
  "kernelspec": {
   "display_name": "Python 3",
   "language": "python",
   "name": "python3"
  },
  "language_info": {
   "codemirror_mode": {
    "name": "ipython",
    "version": 3
   },
   "file_extension": ".py",
   "mimetype": "text/x-python",
   "name": "python",
   "nbconvert_exporter": "python",
   "pygments_lexer": "ipython3",
   "version": "3.7.1"
  }
 },
 "nbformat": 4,
 "nbformat_minor": 2
}
