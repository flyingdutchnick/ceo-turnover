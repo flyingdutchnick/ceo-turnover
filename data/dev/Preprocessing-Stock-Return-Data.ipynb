{
 "cells": [
  {
   "cell_type": "markdown",
   "metadata": {},
   "source": [
    "Start with the regular import statements, and get our raw data from S3 stored in df format"
   ]
  },
  {
   "cell_type": "code",
   "execution_count": 257,
   "metadata": {},
   "outputs": [],
   "source": [
    "import numpy as np\n",
    "import pandas as pd\n",
    "\n",
    "import boto3\n",
    "import sagemaker\n",
    "from sagemaker import get_execution_role\n",
    "\n",
    "role = get_execution_role()\n",
    "bucket='sagemaker-us-east-1-936165954724/ceo-turnover'\n",
    "data_key = 'SharePriceData.csv'\n",
    "data_location = 's3://{}/{}'.format(bucket, data_key)\n",
    "\n",
    "raw_data = pd.read_csv(data_location)"
   ]
  },
  {
   "cell_type": "markdown",
   "metadata": {},
   "source": [
    "Very shallow data exploration just to see how our df is structured"
   ]
  },
  {
   "cell_type": "code",
   "execution_count": 258,
   "metadata": {},
   "outputs": [
    {
     "name": "stdout",
     "output_type": "stream",
     "text": [
      "   gvkey iid   datadate                   conm  prccm     sic\n",
      "0   1003  01  31JAN2010  A.A. IMPORTING CO INC   0.02  5712.0\n",
      "1   1003  01  28FEB2010  A.A. IMPORTING CO INC   0.02  5712.0\n",
      "2   1003  01  31MAR2010  A.A. IMPORTING CO INC   0.02  5712.0\n",
      "3   1003  01  30APR2010  A.A. IMPORTING CO INC   0.02  5712.0\n",
      "4   1003  01  31MAY2010  A.A. IMPORTING CO INC   0.02  5712.0\n"
     ]
    }
   ],
   "source": [
    "print(raw_data.head())"
   ]
  },
  {
   "cell_type": "code",
   "execution_count": 259,
   "metadata": {},
   "outputs": [
    {
     "name": "stdout",
     "output_type": "stream",
     "text": [
      "Index(['gvkey', 'iid', 'datadate', 'conm', 'prccm', 'sic'], dtype='object')\n"
     ]
    }
   ],
   "source": [
    "print(raw_data.columns)"
   ]
  },
  {
   "cell_type": "markdown",
   "metadata": {},
   "source": [
    "We want to calculate percentage returns, but we need a way to make sure we are only taking the percentage change of monthly closing price for the same company, and over the correct time period.\n",
    "\n",
    "One way to do this is to order the df such that for any two rows that reference the same company, the time difference between the rows follows a uniform pattern. If we check that two rows reference the same company, then, we can extrapolate the time difference between them and use that to calculate the percentage price change.\n",
    "\n",
    "To do this, we first change the stored dates into a sortable format, st. earlier date < later date, and sort the df by 'gvkey' (so that all data for a given company is contiguous), and then 'date' (so that company data is chronologically ordered). We also sort first by 'sic', which may make the later step of calculating sector returns easier."
   ]
  },
  {
   "cell_type": "code",
   "execution_count": 260,
   "metadata": {},
   "outputs": [
    {
     "name": "stdout",
     "output_type": "stream",
     "text": [
      "   gvkey iid   datadate       conm  prccm    sic      date\n",
      "0   1266  01  31JAN2010  ALICO INC  25.64  100.0  20100131\n",
      "1   1266  01  28FEB2010  ALICO INC  25.96  100.0  20100228\n",
      "2   1266  01  31MAR2010  ALICO INC  25.25  100.0  20100331\n",
      "3   1266  01  30APR2010  ALICO INC  26.68  100.0  20100430\n",
      "4   1266  01  31MAY2010  ALICO INC  25.40  100.0  20100531\n"
     ]
    }
   ],
   "source": [
    "month_str_to_num = {\"JAN\":1, \"FEB\":2, \"MAR\":3, \"APR\":4, \"MAY\":5, \"JUN\":6, \"JUL\":7,\n",
    "                   \"AUG\":8, \"SEP\":9, \"OCT\":10, \"NOV\":11, \"DEC\":12}\n",
    "\n",
    "def makeDateSortable(date):\n",
    "    days = int(date[0:2])\n",
    "    month = month_str_to_num[date[2:5]]\n",
    "    year = int(date[5:9])\n",
    "    \n",
    "    return days + month * 100 + year * 10000\n",
    "\n",
    "date_series = raw_data['datadate'].apply(lambda x : makeDateSortable(x))\n",
    "\n",
    "raw_data['date'] = date_series\n",
    "raw_data = raw_data.sort_values(by=['sic', 'gvkey', 'date'])\n",
    "raw_data = raw_data.reset_index(drop=True)\n",
    "\n",
    "print(raw_data.head())"
   ]
  },
  {
   "cell_type": "markdown",
   "metadata": {},
   "source": [
    "Now that since the data is appropriately ordered, and we have monthly data, two rows representing the same company whose indices are n apart should represent data that is n months apart. \n",
    "\n",
    "The next step is to write a function that calculates a percentage change in the 'prccm' (closing monthly price) column between rows separated by a supplied n, where n in the number of months we want to calculate the return over. If the two rows being compared represent different companies, there is an error in date ordering (possible if we have missing date points) or trailing security price is not available, then 0 is returned as a dummy value."
   ]
  },
  {
   "cell_type": "code",
   "execution_count": 261,
   "metadata": {},
   "outputs": [],
   "source": [
    "day = lambda date : date % 100\n",
    "month = lambda date : (date // 100) % 100\n",
    "year = lambda date : date // 10000\n",
    "\n",
    "def month_difference(date_1, date_2):\n",
    "    return ((year(date_1) - year(date_2)) * 12) + (month(date_1) - month(date_2))\n",
    "\n",
    "def pct_chg(current, historical):\n",
    "    if historical != 0:\n",
    "        return (current - historical) / historical\n",
    "    else:\n",
    "        return 0\n",
    "    \n",
    "def trailing_n_months_return(row, n=12):\n",
    "    if row < n:\n",
    "        return 0\n",
    "    \n",
    "    trailing_date = raw_data.loc[row - n, 'date']\n",
    "    current_date = raw_data.loc[row, 'date']\n",
    "    \n",
    "    trailing_price = raw_data.loc[row - n, 'prccm']\n",
    "    current_price = raw_data.loc[row, 'prccm']\n",
    "    \n",
    "    trailing_id = raw_data.loc[row - n, 'gvkey']\n",
    "    current_id = raw_data.loc[row, 'gvkey']\n",
    "    \n",
    "    if month_difference(current_date, trailing_date) == n and trailing_id == current_id:\n",
    "        return pct_chg(current_price, trailing_price)\n",
    "    else:\n",
    "        return 0\n",
    "\n",
    "trailing_12_months_return = lambda x : trailing_n_months_return(x, n=12)\n",
    "trailing_24_months_return = lambda x : trailing_n_months_return(x, n=24)\n",
    "trailing_36_months_return = lambda x : trailing_n_months_return(x, n=36)"
   ]
  },
  {
   "cell_type": "markdown",
   "metadata": {},
   "source": [
    "Since our data is now appropriately ordered, and we have written the appropriate transformation functions, we can map those functions to new columns in our dataframe using df.apply() and the anonymous functions defined above.\n",
    "\n",
    "Disclaimer: This step takes a while to run"
   ]
  },
  {
   "cell_type": "code",
   "execution_count": 262,
   "metadata": {},
   "outputs": [],
   "source": [
    "# raw_data = raw_data.head(n=1000)\n",
    "\n",
    "raw_data['idx'] = raw_data.index\n",
    "raw_data['12_mo_return'] = raw_data['idx'].apply(trailing_12_months_return)\n",
    "raw_data['24_mo_return'] = raw_data['idx'].apply(trailing_24_months_return)\n",
    "raw_data['36_mo_return'] = raw_data['idx'].apply(trailing_36_months_return)\n"
   ]
  },
  {
   "cell_type": "markdown",
   "metadata": {},
   "source": [
    "Finally, let's check that the transformation was correctly applied! We should see 12_mo_returns starting from row 12, 24_mo_returns from row 24, and 36_mo_returns from row 36. Rows preceding those should have the dummy value of 0."
   ]
  },
  {
   "cell_type": "code",
   "execution_count": 263,
   "metadata": {},
   "outputs": [
    {
     "name": "stdout",
     "output_type": "stream",
     "text": [
      "     datadate       conm  prccm  12_mo_return  24_mo_return  36_mo_return\n",
      "0   31JAN2010  ALICO INC  25.64      0.000000      0.000000      0.000000\n",
      "1   28FEB2010  ALICO INC  25.96      0.000000      0.000000      0.000000\n",
      "2   31MAR2010  ALICO INC  25.25      0.000000      0.000000      0.000000\n",
      "3   30APR2010  ALICO INC  26.68      0.000000      0.000000      0.000000\n",
      "4   31MAY2010  ALICO INC  25.40      0.000000      0.000000      0.000000\n",
      "5   30JUN2010  ALICO INC  22.98      0.000000      0.000000      0.000000\n",
      "6   31JUL2010  ALICO INC  24.36      0.000000      0.000000      0.000000\n",
      "7   31AUG2010  ALICO INC  20.60      0.000000      0.000000      0.000000\n",
      "8   30SEP2010  ALICO INC  23.24      0.000000      0.000000      0.000000\n",
      "9   31OCT2010  ALICO INC  25.60      0.000000      0.000000      0.000000\n",
      "10  30NOV2010  ALICO INC  23.15      0.000000      0.000000      0.000000\n",
      "11  31DEC2010  ALICO INC  23.84      0.000000      0.000000      0.000000\n",
      "12  31JAN2011  ALICO INC  25.11     -0.020671      0.000000      0.000000\n",
      "13  28FEB2011  ALICO INC  26.51      0.021186      0.000000      0.000000\n",
      "14  31MAR2011  ALICO INC  26.77      0.060198      0.000000      0.000000\n",
      "15  30APR2011  ALICO INC  25.79     -0.033358      0.000000      0.000000\n",
      "16  31MAY2011  ALICO INC  24.92     -0.018898      0.000000      0.000000\n",
      "17  30JUN2011  ALICO INC  25.62      0.114883      0.000000      0.000000\n",
      "18  31JUL2011  ALICO INC  24.41      0.002053      0.000000      0.000000\n",
      "19  31AUG2011  ALICO INC  21.24      0.031068      0.000000      0.000000\n",
      "20  30SEP2011  ALICO INC  19.64     -0.154905      0.000000      0.000000\n",
      "21  31OCT2011  ALICO INC  22.77     -0.110547      0.000000      0.000000\n",
      "22  30NOV2011  ALICO INC  17.94     -0.225054      0.000000      0.000000\n",
      "23  31DEC2011  ALICO INC  19.37     -0.187500      0.000000      0.000000\n",
      "24  31JAN2012  ALICO INC  23.14     -0.078455     -0.097504      0.000000\n",
      "25  29FEB2012  ALICO INC  23.26     -0.122595     -0.104006      0.000000\n",
      "26  31MAR2012  ALICO INC  23.11     -0.136720     -0.084752      0.000000\n",
      "27  30APR2012  ALICO INC  22.74     -0.118263     -0.147676      0.000000\n",
      "28  31MAY2012  ALICO INC  24.42     -0.020064     -0.038583      0.000000\n",
      "29  30JUN2012  ALICO INC  30.54      0.192037      0.328982      0.000000\n",
      "30  31JUL2012  ALICO INC  29.23      0.197460      0.199918      0.000000\n",
      "31  31AUG2012  ALICO INC  31.63      0.489171      0.535437      0.000000\n",
      "32  30SEP2012  ALICO INC  31.23      0.590122      0.343804      0.000000\n",
      "33  31OCT2012  ALICO INC  31.39      0.378568      0.226172      0.000000\n",
      "34  30NOV2012  ALICO INC  34.42      0.918618      0.486825      0.000000\n",
      "35  31DEC2012  ALICO INC  36.63      0.891069      0.536493      0.000000\n",
      "36  31JAN2013  ALICO INC  43.57      0.882887      0.735165      0.699298\n",
      "37  28FEB2013  ALICO INC  42.85      0.842218      0.616371      0.650616\n",
      "38  31MAR2013  ALICO INC  46.25      1.001298      0.727680      0.831683\n",
      "39  30APR2013  ALICO INC  41.81      0.838610      0.621171      0.567091\n"
     ]
    }
   ],
   "source": [
    "preview_data = raw_data.drop(['idx', 'iid', 'date', 'sic', 'gvkey'], axis=1).head(n=40)\n",
    "print(preview_data)"
   ]
  },
  {
   "cell_type": "markdown",
   "metadata": {},
   "source": [
    "\n",
    "Looks good! Let's convert the dataframe back into csv format and upload the pre-processed data to S3.\n"
   ]
  },
  {
   "cell_type": "code",
   "execution_count": 275,
   "metadata": {},
   "outputs": [],
   "source": [
    "filename = \"ShareDataWithReturns.csv\"\n",
    "filepath = \"ceo-turnover/\" + filename\n",
    "bucket = 'sagemaker-us-east-1-936165954724'\n",
    "raw_data.to_csv(filename)\n",
    "\n",
    "\n",
    "s3 = boto3.resource('s3')\n",
    "s3.meta.client.upload_file(filename, bucket, filepath)"
   ]
  },
  {
   "cell_type": "markdown",
   "metadata": {},
   "source": [
    "\n",
    "Aaand we're done.\n"
   ]
  }
 ],
 "metadata": {
  "kernelspec": {
   "display_name": "conda_python3",
   "language": "python",
   "name": "conda_python3"
  },
  "language_info": {
   "codemirror_mode": {
    "name": "ipython",
    "version": 3
   },
   "file_extension": ".py",
   "mimetype": "text/x-python",
   "name": "python",
   "nbconvert_exporter": "python",
   "pygments_lexer": "ipython3",
   "version": "3.6.5"
  }
 },
 "nbformat": 4,
 "nbformat_minor": 4
}
