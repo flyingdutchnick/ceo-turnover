{
 "cells": [
  {
   "cell_type": "code",
   "execution_count": null,
   "metadata": {},
   "outputs": [],
   "source": [
    "import pandas as pd\n",
    "import numpy as np\n",
    "from datetime import datetime\n",
    "from tqdm import tqdm"
   ]
  },
  {
   "cell_type": "code",
   "execution_count": null,
   "metadata": {},
   "outputs": [],
   "source": [
    "#importing the data\n",
    "age_data = pd.read_csv(\"../../../../ceo_turnover/CEO_v2/age_data.csv\")\n",
    "tenure_data = pd.read_csv(\"../../../../ceo_turnover/CEO_v2/tenure_data.csv\")\n",
    "conversion_data = pd.read_csv(\"../../../../ceo_turnover/CEO Turnover Project/Raw Data Files/conversion_dataset.csv\")"
   ]
  },
  {
   "cell_type": "markdown",
   "metadata": {},
   "source": [
    "First we're going to clean the age data"
   ],
   "execution_count": null,
   "outputs": []
  },
  {
   "cell_type": "code",
   "execution_count": null,
   "metadata": {},
   "outputs": [],
   "source": [
    "#Creating NaN consitency\n",
    "age_data.fillna(\"NaN\", inplace=True)\n",
    "age_data[\"DOB\"].replace(\"n.a.\", \"NaN\", inplace=True)"
   ]
  },
  {
   "cell_type": "code",
   "execution_count": null,
   "metadata": {},
   "outputs": [],
   "source": [
    "#Creating a function that will get the \"DOB\" column in the format we want. \"DOB\" column has\n",
    "#4 different types of inputs\n",
    "\n",
    "#Type 1: 01 Apr 1918\n",
    "#Type 2: Sep 1945\n",
    "#Type 3: \"1945\"\n",
    "#Type 4: 1945\n",
    "#Type 5: \"NaN\"\n",
    "\n",
    "def correct_dob(date):\n",
    "    if date == \"NaN\":\n",
    "        return date\n",
    "    elif type(date) == int:\n",
    "        return pd.to_datetime(date, format=\"%Y\")\n",
    "    elif len(date.split(\" \")) == 1:\n",
    "        return pd.to_datetime(date, format=\"%Y\")\n",
    "    elif len(date.split(\" \")) == 2:\n",
    "        return pd.to_datetime(date, format=\"%b %Y\")\n",
    "    elif len(date.split(\" \")) == 3:\n",
    "        return pd.to_datetime(date, format=\"%d %b %Y\")\n",
    "    else:\n",
    "        return \"ERROR\"\n",
    "\n",
    "dob_vector = np.vectorize(correct_dob)"
   ]
  },
  {
   "cell_type": "code",
   "execution_count": null,
   "metadata": {},
   "outputs": [],
   "source": [
    "#Updating the DOB column\n",
    "age_data[\"DOB\"] = dob_vector(age_data[\"DOB\"])"
   ]
  },
  {
   "cell_type": "code",
   "execution_count": null,
   "metadata": {},
   "outputs": [],
   "source": [
    "#Age NANs are being left to be dealt with later"
   ]
  },
  {
   "cell_type": "markdown",
   "metadata": {},
   "source": [
    "Now we're cleaning the tenure data"
   ],
   "execution_count": null,
   "outputs": []
  },
  {
   "cell_type": "code",
   "execution_count": null,
   "metadata": {},
   "outputs": [],
   "source": [
    "#Dropping the entries that either have an \"N\" in the StartDate or EndDate and dropping directors who have remained in their roles\n",
    "tenure_data.drop(tenure_data[tenure_data[\"DateEndRole\"] == \"N\"].index, inplace=True)\n",
    "tenure_data.drop(tenure_data[tenure_data[\"DateStartRole\"] == \"N\"].index, inplace=True)\n",
    "tenure_data.drop(tenure_data[tenure_data[\"DateEndRole\"] == \"C\"].index, inplace=True)"
   ]
  },
  {
   "cell_type": "code",
   "execution_count": null,
   "metadata": {},
   "outputs": [],
   "source": [
    "#Converting to \"datetime\" objects\n",
    "tenure_data[\"DateStartRole\"] = pd.to_datetime(tenure_data[\"DateStartRole\"], format=\"%Y%m%d\")\n",
    "tenure_data[\"DateEndRole\"] = pd.to_datetime(tenure_data[\"DateEndRole\"], format=\"%Y%m%d\")"
   ]
  },
  {
   "cell_type": "code",
   "execution_count": null,
   "metadata": {},
   "outputs": [],
   "source": [
    "#Dealing with the columns that have the Start Date and End Date\n",
    "fixed_entries = tenure_data[tenure_data[\"DateStartRole\"] > tenure_data[\"DateEndRole\"]]\n",
    "fixed_entries.columns = ['CompanyID', 'DirectorID', 'DirectorName', 'CompanyName', 'RoleName', 'DateEndRole', 'DateStartRole', 'Seniority']\n",
    "tenure_data.drop(fixed_entries.index, inplace=True)\n",
    "tenure_data = tenure_data.append(fixed_entries)"
   ]
  },
  {
   "cell_type": "markdown",
   "metadata": {},
   "source": [
    "Now we can join the two datasets"
   ],
   "execution_count": null,
   "outputs": []
  },
  {
   "cell_type": "code",
   "execution_count": null,
   "metadata": {},
   "outputs": [],
   "source": [
    "#Executing the inner join\n",
    "joined_data = pd.merge(left=tenure_data, right=age_data)"
   ]
  },
  {
   "cell_type": "markdown",
   "metadata": {},
   "source": [
    "Now we're going to join in the dataset that links BoardEx's \"ComapnyID\" with Compustat's \"GVKey\". We're going to do this now because it will spare us from running our script on thousands of rows that we'll eventually drop anyway because we have no financial performance data on them"
   ],
   "execution_count": null,
   "outputs": []
  },
  {
   "cell_type": "code",
   "execution_count": null,
   "metadata": {},
   "outputs": [],
   "source": [
    "#Joining in the conversion dataset\n",
    "joined_data = pd.merge(left=joined_data, right=conversion_data, left_on=\"CompanyID\", right_on=\"COMPANYID\")"
   ]
  },
  {
   "cell_type": "markdown",
   "metadata": {},
   "source": [
    "Defining functions that will help us create the panel dataset"
   ],
   "execution_count": null,
   "outputs": []
  },
  {
   "cell_type": "code",
   "execution_count": null,
   "metadata": {},
   "outputs": [],
   "source": [
    "#Creating a function that will give us \"age\" in the desired format - Y.MMM\n",
    "def age_calculator(DOB, date):\n",
    "    months = np.datetime64(date, \"M\") - np.datetime64(DOB, \"M\")\n",
    "    age = months / np.timedelta64(12,'M')\n",
    "    return age\n",
    "\n",
    "#Vectorizing\n",
    "age_vector = np.vectorize(age_calculator, otypes=[np.float])"
   ]
  },
  {
   "cell_type": "code",
   "execution_count": null,
   "metadata": {},
   "outputs": [],
   "source": [
    "def age_column(DOB, date_range):\n",
    "    #handling \"NaN\" value\n",
    "    if pd.isnull(DOB):\n",
    "        ages = [\"NaN\"] * len(date_range)\n",
    "    else:\n",
    "        ages = age_vector(DOB, date_range)\n",
    "    return ages"
   ]
  },
  {
   "cell_type": "code",
   "execution_count": null,
   "metadata": {},
   "outputs": [],
   "source": [
    "def make_panel(idx, row):\n",
    "\n",
    "    #Declaring key variables\n",
    "    start = row[\"DateStartRole\"]\n",
    "    end = row[\"DateEndRole\"]\n",
    "    dob = row[\"DOB\"]\n",
    "    date_range = pd.period_range(start=start, end=end, freq='M')\n",
    "\n",
    "    #Ages column\n",
    "    ages = age_column(dob, date_range)\n",
    "  \n",
    "    #Makeing the panel\n",
    "    current_panel = pd.DataFrame([row]*len(date_range))\n",
    "    current_panel[\"Age\"] = ages\n",
    "    current_panel[\"date\"] = date_range\n",
    "    \n",
    "    return current_panel"
   ]
  },
  {
   "cell_type": "markdown",
   "metadata": {},
   "source": [
    "Now we're putting it all together"
   ],
   "execution_count": null,
   "outputs": []
  },
  {
   "cell_type": "code",
   "execution_count": null,
   "metadata": {},
   "outputs": [],
   "source": [
    "#25 minutes to execute - takes in a df with 300,000 entries and outputs a df with 13,000,000\n",
    "dfs = []\n",
    "\n",
    "for idx, row in tqdm(joined_data.iterrows(), total=joined_data.shape[0]):\n",
    "    curr_df = make_panel(idx, row)\n",
    "    dfs.append(curr_df)\n",
    "    \n",
    "panel_data = pd.concat(dfs)"
   ]
  },
  {
   "cell_type": "code",
   "execution_count": null,
   "metadata": {},
   "outputs": [],
   "source": [
    "def add_role_tenure(df):\n",
    "\n",
    "    ''' \n",
    "    Calculate role_tenure by simply taking the current date minus the date_start_role\n",
    "    '''\n",
    "    \n",
    "    df[\"role_tenure\"] = -1\n",
    "    tenure_list = []\n",
    "\n",
    "    for start_date, current_date in tqdm(zip(df[\"DateStartRole\"], df[\"date\"]), total=df.shape[0]):\n",
    "        tenure_list.append(np.datetime64(current_date, \"M\") - np.datetime64(start_date, \"M\"))\n",
    "    \n",
    "    df[\"role_tenure\"] = tenure_list / np.timedelta64(12,'M')\n",
    "\n",
    "    return df\n",
    "\n",
    "#Creating the role tenure for our panel_data\n",
    "panel_data = add_role_tenure(panel_data)"
   ]
  },
  {
   "cell_type": "markdown",
   "metadata": {},
   "source": []
  },
  {
   "cell_type": "markdown",
   "metadata": {},
   "source": []
  },
  {
   "cell_type": "markdown",
   "metadata": {},
   "source": [
    "The add_company_tenure function take incredibly long. Everything after this cell is WIP - trying to find a more efficient way to implement the function"
   ]
  },
  {
   "cell_type": "markdown",
   "metadata": {},
   "source": []
  },
  {
   "cell_type": "markdown",
   "metadata": {},
   "source": []
  },
  {
   "cell_type": "code",
   "execution_count": null,
   "metadata": {},
   "outputs": [],
   "source": [
    "#Imports a CSV that has all the changes we want up to \"add_role_tenure\" - this CSV can be found in the S3\n",
    "panel_data = pd.read_pickle(\"../../../../ceo_turnover/CEO_v2/directorships_v4.csv\")"
   ]
  },
  {
   "cell_type": "code",
   "execution_count": null,
   "metadata": {},
   "outputs": [],
   "source": [
    "#This was the implementation of add_company_tenure we came up with originally\n",
    "def add_company_tenure(df):\n",
    "\n",
    "    df[\"company_tenure\"] = df[\"role_tenure\"]\n",
    "\n",
    "    df.sort_values(by=['role_tenure'], inplace=True, ascending=False)\n",
    "    df.sort_values(by=['date', 'DirectorID', 'CompanyID'], inplace=True)\n",
    "\n",
    "    for idx in tqdm(range(1, df.shape[0])):\n",
    "        if df.iloc[idx][\"DirectorID\"] != df.iloc[idx - 1][\"DirectorID\"] or \\\n",
    "                df.iloc[idx][\"CompanyID\"] != df.iloc[idx - 1][\"CompanyID\"]:\n",
    "            pass\n",
    "\n",
    "        elif df.iloc[idx][\"date\"] != df.iloc[idx - 1][\"date\"]:\n",
    "            df.at[idx, \"company_tenure\"] = df.iloc[idx - 1][\"company_tenure\"] + (1 / 12)\n",
    "\n",
    "        else:\n",
    "            df.at[idx, \"company_tenure\"] = df.iloc[idx - 1][\"company_tenure\"]\n",
    "\n",
    "    return df\n",
    "\n",
    "#Updating\n",
    "panel_data = add_company_tenure(panel_data)"
   ]
  },
  {
   "cell_type": "markdown",
   "metadata": {},
   "source": [
    "Work in progress"
   ]
  },
  {
   "cell_type": "code",
   "execution_count": 73,
   "metadata": {},
   "outputs": [],
   "source": [
    "costco_data = panel_data[panel_data[\"CompanyName\"].str.contains(\"Costco\")]"
   ]
  },
  {
   "cell_type": "code",
   "execution_count": 264,
   "metadata": {},
   "outputs": [
    {
     "output_type": "execute_result",
     "data": {
      "text/plain": "                  role_tenure                                     \\\nRoleName                  CEO Chairman (Executive) Director - SD   \nDirectorName                                                       \nJeff Brotman              NaN            22.666667           NaN   \nJim Sinegal          1.916667                  NaN      6.000000   \nRichard DiCerchio         NaN                  NaN      0.583333   \nW Jelinek                 NaN                  NaN           NaN   \n\n                                                                                \nRoleName          President/CEO President/COO Senior Executive VP/Division COO  \nDirectorName                                                                    \nJeff Brotman                NaN           NaN                              NaN  \nJim Sinegal               16.25           NaN                              NaN  \nRichard DiCerchio           NaN           NaN                         6.416667  \nW Jelinek                   NaN      1.833333                              NaN  ",
      "text/html": "<div>\n<style scoped>\n    .dataframe tbody tr th:only-of-type {\n        vertical-align: middle;\n    }\n\n    .dataframe tbody tr th {\n        vertical-align: top;\n    }\n\n    .dataframe thead tr th {\n        text-align: left;\n    }\n\n    .dataframe thead tr:last-of-type th {\n        text-align: right;\n    }\n</style>\n<table border=\"1\" class=\"dataframe\">\n  <thead>\n    <tr>\n      <th></th>\n      <th colspan=\"6\" halign=\"left\">role_tenure</th>\n    </tr>\n    <tr>\n      <th>RoleName</th>\n      <th>CEO</th>\n      <th>Chairman (Executive)</th>\n      <th>Director - SD</th>\n      <th>President/CEO</th>\n      <th>President/COO</th>\n      <th>Senior Executive VP/Division COO</th>\n    </tr>\n    <tr>\n      <th>DirectorName</th>\n      <th></th>\n      <th></th>\n      <th></th>\n      <th></th>\n      <th></th>\n      <th></th>\n    </tr>\n  </thead>\n  <tbody>\n    <tr>\n      <th>Jeff Brotman</th>\n      <td>NaN</td>\n      <td>22.666667</td>\n      <td>NaN</td>\n      <td>NaN</td>\n      <td>NaN</td>\n      <td>NaN</td>\n    </tr>\n    <tr>\n      <th>Jim Sinegal</th>\n      <td>1.916667</td>\n      <td>NaN</td>\n      <td>6.000000</td>\n      <td>16.25</td>\n      <td>NaN</td>\n      <td>NaN</td>\n    </tr>\n    <tr>\n      <th>Richard DiCerchio</th>\n      <td>NaN</td>\n      <td>NaN</td>\n      <td>0.583333</td>\n      <td>NaN</td>\n      <td>NaN</td>\n      <td>6.416667</td>\n    </tr>\n    <tr>\n      <th>W Jelinek</th>\n      <td>NaN</td>\n      <td>NaN</td>\n      <td>NaN</td>\n      <td>NaN</td>\n      <td>1.833333</td>\n      <td>NaN</td>\n    </tr>\n  </tbody>\n</table>\n</div>"
     },
     "metadata": {},
     "execution_count": 264
    }
   ],
   "source": [
    "costco_table = costco_data.pivot_table(values=[\"role_tenure\"], index=\"DirectorName\", columns=\"RoleName\", aggfunc=max)\n",
    "costco_table"
   ]
  },
  {
   "cell_type": "code",
   "execution_count": 265,
   "metadata": {},
   "outputs": [],
   "source": [
    "costco_table[\"company_tenure\"] = np.sum(costco_table, axis=1).values\n",
    ""
   ]
  },
  {
   "cell_type": "code",
   "execution_count": 266,
   "metadata": {},
   "outputs": [
    {
     "output_type": "execute_result",
     "data": {
      "text/plain": "               DirectorName role_tenure                                     \\\nRoleName                            CEO Chairman (Executive) Director - SD   \n0              Jeff Brotman         NaN            22.666667           NaN   \n1               Jim Sinegal    1.916667                  NaN      6.000000   \n2         Richard DiCerchio         NaN                  NaN      0.583333   \n3                 W Jelinek         NaN                  NaN           NaN   \n\n                                                                       \\\nRoleName President/CEO President/COO Senior Executive VP/Division COO   \n0                  NaN           NaN                              NaN   \n1                16.25           NaN                              NaN   \n2                  NaN           NaN                         6.416667   \n3                  NaN      1.833333                              NaN   \n\n         company_tenure  \nRoleName                 \n0             22.666667  \n1             24.166667  \n2              7.000000  \n3              1.833333  ",
      "text/html": "<div>\n<style scoped>\n    .dataframe tbody tr th:only-of-type {\n        vertical-align: middle;\n    }\n\n    .dataframe tbody tr th {\n        vertical-align: top;\n    }\n\n    .dataframe thead tr th {\n        text-align: left;\n    }\n</style>\n<table border=\"1\" class=\"dataframe\">\n  <thead>\n    <tr>\n      <th></th>\n      <th>DirectorName</th>\n      <th colspan=\"6\" halign=\"left\">role_tenure</th>\n      <th>company_tenure</th>\n    </tr>\n    <tr>\n      <th>RoleName</th>\n      <th></th>\n      <th>CEO</th>\n      <th>Chairman (Executive)</th>\n      <th>Director - SD</th>\n      <th>President/CEO</th>\n      <th>President/COO</th>\n      <th>Senior Executive VP/Division COO</th>\n      <th></th>\n    </tr>\n  </thead>\n  <tbody>\n    <tr>\n      <th>0</th>\n      <td>Jeff Brotman</td>\n      <td>NaN</td>\n      <td>22.666667</td>\n      <td>NaN</td>\n      <td>NaN</td>\n      <td>NaN</td>\n      <td>NaN</td>\n      <td>22.666667</td>\n    </tr>\n    <tr>\n      <th>1</th>\n      <td>Jim Sinegal</td>\n      <td>1.916667</td>\n      <td>NaN</td>\n      <td>6.000000</td>\n      <td>16.25</td>\n      <td>NaN</td>\n      <td>NaN</td>\n      <td>24.166667</td>\n    </tr>\n    <tr>\n      <th>2</th>\n      <td>Richard DiCerchio</td>\n      <td>NaN</td>\n      <td>NaN</td>\n      <td>0.583333</td>\n      <td>NaN</td>\n      <td>NaN</td>\n      <td>6.416667</td>\n      <td>7.000000</td>\n    </tr>\n    <tr>\n      <th>3</th>\n      <td>W Jelinek</td>\n      <td>NaN</td>\n      <td>NaN</td>\n      <td>NaN</td>\n      <td>NaN</td>\n      <td>1.833333</td>\n      <td>NaN</td>\n      <td>1.833333</td>\n    </tr>\n  </tbody>\n</table>\n</div>"
     },
     "metadata": {},
     "execution_count": 266
    }
   ],
   "source": [
    "costco_table.reset_index()"
   ]
  },
  {
   "cell_type": "code",
   "execution_count": null,
   "metadata": {},
   "outputs": [],
   "source": []
  },
  {
   "cell_type": "code",
   "execution_count": null,
   "metadata": {},
   "outputs": [],
   "source": []
  },
  {
   "cell_type": "code",
   "execution_count": null,
   "metadata": {},
   "outputs": [],
   "source": []
  },
  {
   "cell_type": "code",
   "execution_count": null,
   "metadata": {},
   "outputs": [],
   "source": [
    "#Determines wether or not a director turned over in a given window\n",
    "def add_turnover_indicator(df, window_before=12):\n",
    "\n",
    "    def date_difference(date_1, date_2):\n",
    "        if not isinstance(date_2, datetime.datetime):\n",
    "            return window_before + 1\n",
    "        else:\n",
    "            return (date_2 - date_1) / np.timedelta64(1, 'M')\n",
    "\n",
    "    def turnover_for_row(idx):\n",
    "        current_date = df.iloc[idx]['Date']\n",
    "        end_date = df.iloc[idx]['role_end_date']\n",
    "\n",
    "        if date_difference(current_date, end_date) < window_before:\n",
    "            return True\n",
    "        else:\n",
    "            return False\n",
    "\n",
    "    df['temp_idx'] = df.index\n",
    "\n",
    "    df['turnover_next_12_mo'] = df['temp_idx'].apply(lambda idx: turnover_for_row(idx))\n",
    "\n",
    "    df.drop(['temp_idx'], axis=1, inplace=True)"
   ]
  },
  {
   "cell_type": "code",
   "execution_count": null,
   "metadata": {},
   "outputs": [],
   "source": [
    "#Only keeping CEOs - RUN THIS WHEN COMPLETELY DONE\n",
    "tenure_data = tenure_data[tenure_data[\"RoleName\"].str.contains(\"CEO\")]"
   ]
  },
  {
   "cell_type": "code",
   "execution_count": null,
   "metadata": {},
   "outputs": [],
   "source": [
    "tenure_data.to_csv(\"directorships_final.csv\")"
   ]
  },
  {
   "cell_type": "code",
   "execution_count": null,
   "metadata": {},
   "outputs": [],
   "source": []
  },
  {
   "cell_type": "code",
   "execution_count": null,
   "metadata": {},
   "outputs": [],
   "source": []
  }
 ],
 "metadata": {
  "kernelspec": {
   "display_name": "Python 3",
   "language": "python",
   "name": "python3"
  },
  "language_info": {
   "codemirror_mode": {
    "name": "ipython",
    "version": 3
   },
   "file_extension": ".py",
   "mimetype": "text/x-python",
   "name": "python",
   "nbconvert_exporter": "python",
   "pygments_lexer": "ipython3",
   "version": "3.7.3-final"
  }
 },
 "nbformat": 4,
 "nbformat_minor": 2
}