{
 "cells": [
  {
   "cell_type": "code",
   "execution_count": null,
   "metadata": {},
   "outputs": [],
   "source": [
    "import pandas as pd\n",
    "import numpy as np\n",
    "from datetime import datetime\n",
    "from tqdm import tqdm"
   ]
  },
  {
   "cell_type": "code",
   "execution_count": null,
   "metadata": {},
   "outputs": [],
   "source": [
    "#importing the data\n",
    "age_data = pd.read_csv(\"../../../../ceo_turnover/CEO_v2/age_data.csv\")\n",
    "tenure_data = pd.read_csv(\"../../../../ceo_turnover/CEO_v2/tenure_data.csv\")"
   ]
  },
  {
   "cell_type": "markdown",
   "metadata": {},
   "source": [
    "First we're going to clean the age data"
   ],
   "execution_count": null,
   "outputs": []
  },
  {
   "cell_type": "code",
   "execution_count": null,
   "metadata": {},
   "outputs": [],
   "source": [
    "#Creating NaN consitency\n",
    "age_data.fillna(\"NaN\", inplace=True)\n",
    "age_data[\"DOB\"].replace(\"n.a.\", \"NaN\", inplace=True)"
   ]
  },
  {
   "cell_type": "code",
   "execution_count": null,
   "metadata": {},
   "outputs": [],
   "source": [
    "#Creating a function that will get the \"DOB\" column in the format we want. \"DOB\" column has\n",
    "#4 different types of inputs\n",
    "\n",
    "#Type 1: 01 Apr 1918\n",
    "#Type 2: Sep 1945\n",
    "#Type 3: \"1945\"\n",
    "#Type 4: 1945\n",
    "#Type 5: \"NaN\"\n",
    "\n",
    "def correct_dob(date):\n",
    "    if date == \"NaN\":\n",
    "        return date\n",
    "    elif type(date) == int:\n",
    "        return pd.to_datetime(date, format=\"%Y\")\n",
    "    elif len(date.split(\" \")) == 1:\n",
    "        return pd.to_datetime(date, format=\"%Y\")\n",
    "    elif len(date.split(\" \")) == 2:\n",
    "        return pd.to_datetime(date, format=\"%b %Y\")\n",
    "    elif len(date.split(\" \")) == 3:\n",
    "        return pd.to_datetime(date, format=\"%d %b %Y\")\n",
    "    else:\n",
    "        return \"ERROR\"\n",
    "\n",
    "dob_vector = np.vectorize(correct_dob)"
   ]
  },
  {
   "cell_type": "code",
   "execution_count": null,
   "metadata": {},
   "outputs": [],
   "source": [
    "#Updating the DOB column\n",
    "age_data[\"DOB\"] = dob_vector(age_data[\"DOB\"])"
   ]
  },
  {
   "cell_type": "code",
   "execution_count": null,
   "metadata": {},
   "outputs": [],
   "source": [
    "#Age NANs are being left to be dealt with later"
   ]
  },
  {
   "cell_type": "markdown",
   "metadata": {},
   "source": [
    "Now we're cleaning the tenure data"
   ],
   "execution_count": null,
   "outputs": []
  },
  {
   "cell_type": "code",
   "execution_count": null,
   "metadata": {},
   "outputs": [],
   "source": [
    "#Dropping the entries that either have an \"N\" in the StartDate or EndDate and dropping directors who have remained in their roles\n",
    "tenure_data.drop(tenure_data[tenure_data[\"DateEndRole\"] == \"N\"].index, inplace=True)\n",
    "tenure_data.drop(tenure_data[tenure_data[\"DateStartRole\"] == \"N\"].index, inplace=True)\n",
    "tenure_data.drop(tenure_data[tenure_data[\"DateEndRole\"] == \"C\"].index, inplace=True)"
   ]
  },
  {
   "cell_type": "code",
   "execution_count": null,
   "metadata": {},
   "outputs": [],
   "source": [
    "#Converting to \"datetime\" objects\n",
    "tenure_data[\"DateStartRole\"] = pd.to_datetime(tenure_data[\"DateStartRole\"], format=\"%Y%m%d\")\n",
    "tenure_data[\"DateEndRole\"] = pd.to_datetime(tenure_data[\"DateEndRole\"], format=\"%Y%m%d\")"
   ]
  },
  {
   "cell_type": "code",
   "execution_count": null,
   "metadata": {},
   "outputs": [],
   "source": [
    "#Dealing with the columns that have the Start Date and End Date\n",
    "fixed_entries = tenure_data[tenure_data[\"DateStartRole\"] > tenure_data[\"DateEndRole\"]]\n",
    "fixed_entries.columns = ['CompanyID', 'DirectorID', 'DirectorName', 'CompanyName', 'RoleName', 'DateEndRole', 'DateStartRole', 'Seniority']\n",
    "tenure_data.drop(fixed_entries.index, inplace=True)\n",
    "tenure_data = tenure_data.append(fixed_entries)"
   ]
  },
  {
   "cell_type": "markdown",
   "metadata": {},
   "source": [
    "Now we can join the two datasets"
   ],
   "execution_count": null,
   "outputs": []
  },
  {
   "cell_type": "code",
   "execution_count": null,
   "metadata": {},
   "outputs": [],
   "source": [
    "#Executing the inner join\n",
    "joined_data = pd.merge(left=tenure_data, right=age_data)"
   ]
  },
  {
   "cell_type": "markdown",
   "metadata": {},
   "source": [
    "There are some columns that have the Start Date and End Date swapped"
   ],
   "execution_count": null,
   "outputs": []
  },
  {
   "cell_type": "markdown",
   "metadata": {},
   "source": [
    "Defining functions that will help us create the panel dataset"
   ],
   "execution_count": null,
   "outputs": []
  },
  {
   "cell_type": "code",
   "execution_count": null,
   "metadata": {},
   "outputs": [],
   "source": [
    "#Creating a function that will give us \"age\" in the desired format - Y.MMM\n",
    "def age_calculator(DOB, date):\n",
    "    months = np.datetime64(date, \"M\") - np.datetime64(DOB, \"M\")\n",
    "    age = months / np.timedelta64(12,'M')\n",
    "    return age\n",
    "\n",
    "#Vectorizing\n",
    "age_vector = np.vectorize(age_calculator, otypes=[np.float])"
   ]
  },
  {
   "cell_type": "code",
   "execution_count": null,
   "metadata": {},
   "outputs": [],
   "source": [
    "def age_column(DOB, date_range):\n",
    "    #handling \"NaN\" value\n",
    "    if pd.isnull(DOB):\n",
    "        ages = [\"NaN\"] * len(date_range)\n",
    "    else:\n",
    "        ages = age_vector(DOB, date_range)\n",
    "    return ages"
   ]
  },
  {
   "cell_type": "code",
   "execution_count": null,
   "metadata": {},
   "outputs": [],
   "source": [
    "def make_panel(idx, row):\n",
    "\n",
    "    #Declaring key variables\n",
    "    start = row[\"DateStartRole\"][idx]\n",
    "    end = (pd.to_datetime('today') if row[\"DateEndRole\"][idx] == -1 else row[\"DateEndRole\"][idx])\n",
    "    date_range = pd.period_range(start=start, end=end, freq='M')\n",
    "    dob = row[\"DOB\"][idx]\n",
    "\n",
    "    #Ages\n",
    "    ages = age_column(dob, date_range)\n",
    "  \n",
    "    #Makeing the panel\n",
    "    current_panel = pd.concat([row]*len(date_range))\n",
    "    current_panel[\"Age\"] = ages\n",
    "    \n",
    "    return current_panel"
   ]
  },
  {
   "cell_type": "markdown",
   "metadata": {},
   "source": [
    "Now we're putting it all together"
   ],
   "execution_count": null,
   "outputs": []
  },
  {
   "cell_type": "code",
   "execution_count": null,
   "metadata": {},
   "outputs": [],
   "source": [
    "#30 minutes to execute\n",
    "dfs = []\n",
    "\n",
    "for i in tqdm(range(joined_data.shape[0])):\n",
    "    curr_df = make_panel(i, joined_data[i:i+1])\n",
    "    dfs.append(curr_df)\n",
    "    \n",
    "panel_data = pd.concat(dfs)"
   ]
  },
  {
   "cell_type": "code",
   "execution_count": null,
   "metadata": {},
   "outputs": [],
   "source": [
    "def add_role_tenure(df):\n",
    "\n",
    "    ''' \n",
    "    Calculate role_tenure by simply taking the current date minus the date_start_role\n",
    "    '''\n",
    "    \n",
    "    df[\"role_tenure\"] = -1\n",
    "    tenure_list = []\n",
    "\n",
    "    for start_date, current_date in tqdm(zip(df[\"date_start_role\"], df[\"date\"]), total=df.shape[0]):\n",
    "        tenure_list.append(np.datetime64(current_date, \"M\") - np.datetime64(start_date, \"M\"))\n",
    "    \n",
    "    df[\"role_tenure\"] = tenure_list / np.timedelta64(12,'M')\n",
    "\n",
    "    return df\n",
    "\n",
    "#Creating the role tenure for our panel_data\n",
    "panel_data = add_role_tenure(panel_data)"
   ]
  },
  {
   "cell_type": "code",
   "execution_count": null,
   "metadata": {},
   "outputs": [],
   "source": [
    "#Calcualtes the company tenure for a given director\n",
    "def add_company_tenure(df):\n",
    "\n",
    "    df[\"company_tenure\"] = df[\"role_tenure\"]\n",
    "\n",
    "    df.sort_values(by=['role_tenure'], inplace=True, ascending=False)\n",
    "    df.sort_values(by=['date', 'DirectorID', 'CompanyID'], inplace=True)\n",
    "\n",
    "    for idx in tqdm(range(1, df.shape[0])):\n",
    "        if df.iloc[idx][\"DirectorID\"] != df.iloc[idx - 1][\"DirectorID\"] or \\\n",
    "                df.iloc[idx][\"CompanyID\"] != df.iloc[idx - 1][\"CompanyID\"]:\n",
    "            pass\n",
    "\n",
    "        elif df.iloc[idx][\"date\"] != df.iloc[idx - 1][\"date\"]:\n",
    "            df.at[idx, \"company_tenure\"] = df.iloc[idx - 1][\"company_tenure\"] + (1 / 12)\n",
    "\n",
    "        else:\n",
    "            df.at[idx, \"company_tenure\"] = df.iloc[idx - 1][\"company_tenure\"]\n",
    "\n",
    "    return df\n",
    "\n",
    "#Updating\n",
    "panel_data = add_company_tenure(panel_data)"
   ]
  },
  {
   "cell_type": "code",
   "execution_count": null,
   "metadata": {},
   "outputs": [],
   "source": [
    "#Determines wether or not a director turned over in a given window\n",
    "def add_turnover_indicator(df, window_before=12):\n",
    "\n",
    "    def date_difference(date_1, date_2):\n",
    "        if not isinstance(date_2, datetime.datetime):\n",
    "            return window_before + 1\n",
    "        else:\n",
    "            return (date_2 - date_1) / np.timedelta64(1, 'M')\n",
    "\n",
    "    def turnover_for_row(idx):\n",
    "        current_date = df.iloc[idx]['Date']\n",
    "        end_date = df.iloc[idx]['role_end_date']\n",
    "\n",
    "        if date_difference(current_date, end_date) < window_before:\n",
    "            return True\n",
    "        else:\n",
    "            return False\n",
    "\n",
    "    df['temp_idx'] = df.index\n",
    "\n",
    "    df['turnover_next_12_mo'] = df['temp_idx'].apply(lambda idx: turnover_for_row(idx))\n",
    "\n",
    "    df.drop(['temp_idx'], axis=1, inplace=True)"
   ]
  },
  {
   "cell_type": "code",
   "execution_count": null,
   "metadata": {},
   "outputs": [],
   "source": [
    "#Only keeping CEOs - RUN THIS WHEN COMPLETELY DONE\n",
    "tenure_data = tenure_data[tenure_data[\"RoleName\"].str.contains(\"CEO\")]"
   ]
  },
  {
   "cell_type": "code",
   "execution_count": null,
   "metadata": {},
   "outputs": [],
   "source": [
    "tenure_data.to_csv(\"directorships_v3.csv\")"
   ]
  },
  {
   "cell_type": "code",
   "execution_count": null,
   "metadata": {},
   "outputs": [],
   "source": []
  },
  {
   "cell_type": "code",
   "execution_count": null,
   "metadata": {},
   "outputs": [],
   "source": []
  }
 ],
 "metadata": {
  "kernelspec": {
   "display_name": "Python 3",
   "language": "python",
   "name": "python3"
  },
  "language_info": {
   "codemirror_mode": {
    "name": "ipython",
    "version": 3
   },
   "file_extension": ".py",
   "mimetype": "text/x-python",
   "name": "python",
   "nbconvert_exporter": "python",
   "pygments_lexer": "ipython3",
   "version": "3.7.3-final"
  }
 },
 "nbformat": 4,
 "nbformat_minor": 2
}