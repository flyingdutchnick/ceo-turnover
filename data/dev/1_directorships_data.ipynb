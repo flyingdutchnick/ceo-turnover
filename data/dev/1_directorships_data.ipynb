{
 "cells": [
  {
   "cell_type": "code",
   "execution_count": 112,
   "metadata": {},
   "outputs": [],
   "source": [
    "import pandas as pd\n",
    "import numpy as np\n",
    "import datetime\n",
    "from tqdm import tqdm"
   ]
  },
  {
   "cell_type": "code",
   "execution_count": 56,
   "metadata": {},
   "outputs": [
    {
     "name": "stderr",
     "output_type": "stream",
     "text": [
      "C:\\Users\\Nico\\Anaconda3\\lib\\site-packages\\IPython\\core\\interactiveshell.py:3057: DtypeWarning: Columns (0,2) have mixed types. Specify dtype option on import or set low_memory=False.\n",
      "  interactivity=interactivity, compiler=compiler, result=result)\n"
     ]
    }
   ],
   "source": [
    "#importing the data\n",
    "age_data = pd.read_csv(\"../../../../ceo_turnover/CEO_v2/age_data.csv\")\n",
    "tenure_data = pd.read_csv(\"../../../../ceo_turnover/CEO_v2/tenure_data.csv\")\n",
    "conversion_data = pd.read_csv(\"../../../../ceo_turnover/CEO Turnover Project/Raw Data Files/conversion_dataset.csv\")"
   ]
  },
  {
   "cell_type": "markdown",
   "metadata": {},
   "source": [
    "First we're going to clean the age data"
   ]
  },
  {
   "cell_type": "code",
   "execution_count": 57,
   "metadata": {},
   "outputs": [],
   "source": [
    "#Creating NaN consitency\n",
    "age_data.fillna(\"NaN\", inplace=True)\n",
    "age_data[\"DOB\"].replace(\"n.a.\", \"NaN\", inplace=True)"
   ]
  },
  {
   "cell_type": "code",
   "execution_count": 58,
   "metadata": {},
   "outputs": [],
   "source": [
    "#Creating a function that will get the \"DOB\" column in the format we want. \"DOB\" column has\n",
    "#4 different types of inputs\n",
    "\n",
    "#Type 1: 01 Apr 1918\n",
    "#Type 2: Sep 1945\n",
    "#Type 3: \"1945\"\n",
    "#Type 4: 1945\n",
    "#Type 5: \"NaN\"\n",
    "\n",
    "def correct_dob(date):\n",
    "    if date == \"NaN\":\n",
    "        return date\n",
    "    elif type(date) == int:\n",
    "        return pd.to_datetime(date, format=\"%Y\")\n",
    "    elif len(date.split(\" \")) == 1:\n",
    "        return pd.to_datetime(date, format=\"%Y\")\n",
    "    elif len(date.split(\" \")) == 2:\n",
    "        return pd.to_datetime(date, format=\"%b %Y\")\n",
    "    elif len(date.split(\" \")) == 3:\n",
    "        return pd.to_datetime(date, format=\"%d %b %Y\")\n",
    "    else:\n",
    "        return \"ERROR\"\n",
    "\n",
    "dob_vector = np.vectorize(correct_dob)"
   ]
  },
  {
   "cell_type": "code",
   "execution_count": 59,
   "metadata": {},
   "outputs": [],
   "source": [
    "#Updating the DOB column\n",
    "age_data[\"DOB\"] = dob_vector(age_data[\"DOB\"])"
   ]
  },
  {
   "cell_type": "code",
   "execution_count": 60,
   "metadata": {},
   "outputs": [],
   "source": [
    "#Age NANs are being left to be dealt with later"
   ]
  },
  {
   "cell_type": "markdown",
   "metadata": {},
   "source": [
    "Now we're cleaning the tenure data"
   ]
  },
  {
   "cell_type": "code",
   "execution_count": 61,
   "metadata": {},
   "outputs": [],
   "source": [
    "#Dropping the entries that either have an \"N\" in the StartDate or EndDate and dropping directors who have remained in their roles\n",
    "tenure_data.drop(tenure_data[tenure_data[\"DateEndRole\"] == \"N\"].index, inplace=True)\n",
    "tenure_data.drop(tenure_data[tenure_data[\"DateStartRole\"] == \"N\"].index, inplace=True)\n",
    "tenure_data.drop(tenure_data[tenure_data[\"DateEndRole\"] == \"C\"].index, inplace=True)"
   ]
  },
  {
   "cell_type": "code",
   "execution_count": 62,
   "metadata": {},
   "outputs": [],
   "source": [
    "#Converting to \"datetime\" objects\n",
    "tenure_data[\"DateStartRole\"] = pd.to_datetime(tenure_data[\"DateStartRole\"], format=\"%Y%m%d\")\n",
    "tenure_data[\"DateEndRole\"] = pd.to_datetime(tenure_data[\"DateEndRole\"], format=\"%Y%m%d\")"
   ]
  },
  {
   "cell_type": "code",
   "execution_count": 63,
   "metadata": {},
   "outputs": [
    {
     "name": "stderr",
     "output_type": "stream",
     "text": [
      "C:\\Users\\Nico\\Anaconda3\\lib\\site-packages\\pandas\\core\\frame.py:6692: FutureWarning: Sorting because non-concatenation axis is not aligned. A future version\n",
      "of pandas will change to not sort by default.\n",
      "\n",
      "To accept the future behavior, pass 'sort=False'.\n",
      "\n",
      "To retain the current behavior and silence the warning, pass 'sort=True'.\n",
      "\n",
      "  sort=sort)\n"
     ]
    }
   ],
   "source": [
    "#Dealing with the columns that have the Start Date and End Date reversed\n",
    "fixed_entries = tenure_data[tenure_data[\"DateStartRole\"] > tenure_data[\"DateEndRole\"]]\n",
    "fixed_entries.columns = ['CompanyID', 'DirectorID', 'DirectorName', 'CompanyName', 'RoleName', 'DateEndRole', 'DateStartRole', 'Seniority']\n",
    "tenure_data.drop(fixed_entries.index, inplace=True)\n",
    "tenure_data = tenure_data.append(fixed_entries)"
   ]
  },
  {
   "cell_type": "code",
   "execution_count": 91,
   "metadata": {},
   "outputs": [],
   "source": [
    "#Adding the \"DateStartCompany\" and \"DateEndCompany\" columns to facilitate creating the \"company_tenure\" column later on\n",
    "company_starts = tenure_data.groupby(by=[\"CompanyName\",\"DirectorName\", \"RoleName\"])[\"DateStartRole\"].first().groupby(by=\"DirectorName\").min().rename(\"DateStartCompany\")\n",
    "company_ends = tenure_data.groupby(by=[\"CompanyName\",\"DirectorName\", \"RoleName\"])[\"DateEndRole\"].first().groupby(by=\"DirectorName\").max().rename(\"DateEndCompany\")\n",
    "tenure_data = pd.merge(left=tenure_data, right=company_starts, left_on=\"DirectorName\", right_on=company_starts.index)\n",
    "tenure_data = pd.merge(left=tenure_data, right=company_ends, left_on=\"DirectorName\", right_on=company_ends.index)"
   ]
  },
  {
   "cell_type": "markdown",
   "metadata": {},
   "source": [
    "Now we can join the two datasets"
   ]
  },
  {
   "cell_type": "code",
   "execution_count": 93,
   "metadata": {},
   "outputs": [],
   "source": [
    "#Executing the inner join\n",
    "joined_data = pd.merge(left=tenure_data, right=age_data)"
   ]
  },
  {
   "cell_type": "markdown",
   "metadata": {},
   "source": [
    "Now we're going to join in the dataset that links BoardEx's \"ComapnyID\" with Compustat's \"GVKey\". We're going to do this now because it will spare us from running our script on thousands of rows that we'll eventually drop anyway because we have no financial performance data on them"
   ]
  },
  {
   "cell_type": "code",
   "execution_count": 94,
   "metadata": {},
   "outputs": [],
   "source": [
    "#Joining in the conversion dataset\n",
    "joined_data = pd.merge(left=joined_data, right=conversion_data, left_on=\"CompanyID\", right_on=\"COMPANYID\")"
   ]
  },
  {
   "cell_type": "markdown",
   "metadata": {},
   "source": [
    "Defining functions that will help us create the panel dataset"
   ]
  },
  {
   "cell_type": "code",
   "execution_count": 96,
   "metadata": {},
   "outputs": [],
   "source": [
    "#Creating a function that will give us \"age\" in the desired format - Y.MMM\n",
    "def age_calculator(DOB, date):\n",
    "    months = np.datetime64(date, \"M\") - np.datetime64(DOB, \"M\")\n",
    "    age = months / np.timedelta64(12,'M')\n",
    "    return age\n",
    "\n",
    "#Vectorizing \n",
    "age_vector = np.vectorize(age_calculator, otypes=[np.float])"
   ]
  },
  {
   "cell_type": "code",
   "execution_count": 97,
   "metadata": {},
   "outputs": [],
   "source": [
    "def age_column(DOB, date_range):\n",
    "    #handling \"NaN\" value\n",
    "    if pd.isnull(DOB):\n",
    "        ages = [\"NaN\"] * len(date_range)\n",
    "    else:\n",
    "        ages = age_vector(DOB, date_range)\n",
    "    return ages"
   ]
  },
  {
   "cell_type": "code",
   "execution_count": 98,
   "metadata": {},
   "outputs": [],
   "source": [
    "def make_panel(idx, row):\n",
    "\n",
    "    #Declaring key variables\n",
    "    start = row[\"DateStartRole\"]\n",
    "    end = row[\"DateEndRole\"]\n",
    "    dob = row[\"DOB\"]\n",
    "    date_range = pd.period_range(start=start, end=end, freq='M')\n",
    "\n",
    "    #Ages column\n",
    "    ages = age_column(dob, date_range)\n",
    "  \n",
    "    #Makeing the panel\n",
    "    current_panel = pd.DataFrame([row]*len(date_range))\n",
    "    current_panel[\"Age\"] = ages\n",
    "    current_panel[\"date\"] = date_range\n",
    "    \n",
    "    return current_panel"
   ]
  },
  {
   "cell_type": "markdown",
   "metadata": {},
   "source": [
    "Now we're putting it all together"
   ]
  },
  {
   "cell_type": "code",
   "execution_count": 99,
   "metadata": {},
   "outputs": [
    {
     "name": "stderr",
     "output_type": "stream",
     "text": [
      "100%|██████████| 274381/274381 [21:40<00:00, 210.93it/s]\n"
     ]
    }
   ],
   "source": [
    "#25 minutes to execute - takes in a df with 300,000 entries and outputs a df with 13,000,000\n",
    "dfs = []\n",
    "\n",
    "for idx, row in tqdm(joined_data.iterrows(), total=joined_data.shape[0]):\n",
    "    curr_df = make_panel(idx, row)\n",
    "    dfs.append(curr_df)\n",
    "    \n",
    "panel_data = pd.concat(dfs)"
   ]
  },
  {
   "cell_type": "markdown",
   "metadata": {},
   "source": [
    "Calculating both role_tenure and company_tenure for each director in our dataset"
   ]
  },
  {
   "cell_type": "code",
   "execution_count": 103,
   "metadata": {},
   "outputs": [
    {
     "name": "stderr",
     "output_type": "stream",
     "text": [
      "100%|██████████| 13621529/13621529 [07:44<00:00, 29347.35it/s]\n"
     ]
    }
   ],
   "source": [
    "#Adds both comapany and role tenure for each director\n",
    "def add_tenures(df):\n",
    "\n",
    "    role_tenure = []\n",
    "    company_tenure = []\n",
    "\n",
    "    for role_start, company_start, current_date in tqdm(zip(df[\"DateStartRole\"], df[\"DateStartCompany\"], df[\"date\"]), total=df.shape[0]):\n",
    "        role_tenure.append(np.datetime64(current_date, \"M\") - np.datetime64(role_start, \"M\"))\n",
    "        company_tenure.append(np.datetime64(current_date, \"M\") - np.datetime64(company_start, \"M\"))\n",
    "    \n",
    "    df[\"role_tenure\"] = role_tenure / np.timedelta64(12,'M')\n",
    "    df[\"company_tenure\"] = company_tenure / np.timedelta64(12,'M')\n",
    "\n",
    "    return df\n",
    "\n",
    "#Creating the \"role_tenure\" and \"company_tenure\" columns for our panel_data\n",
    "panel_data = add_tenures(panel_data)"
   ]
  },
  {
   "cell_type": "code",
   "execution_count": null,
   "metadata": {},
   "outputs": [],
   "source": [
    "#We can drop all non-CEO entries now as the tenures have been calculated - reduces df size from 13,000,000 to 700,000\n",
    "panel_data = panel_data[panel_data[\"RoleName\"].str.contains(\"CEO\")]"
   ]
  },
  {
   "cell_type": "markdown",
   "metadata": {},
   "source": [
    "Now we can add the True/False variable that describes if a CEO has been removed from his position or not"
   ]
  },
  {
   "cell_type": "code",
   "execution_count": 250,
   "metadata": {},
   "outputs": [
    {
     "name": "stderr",
     "output_type": "stream",
     "text": [
      "100%|██████████| 13621529/13621529 [1:13:51<00:00, 3073.79it/s]\n"
     ]
    }
   ],
   "source": [
    "#Adds \"True\" to a row if a turnover occured within a specified window of months before the event\n",
    "#Can't be forward looking because we don't have data on directors after a turnover event occured\n",
    "def add_turnover_indicator(df, window):\n",
    "    \n",
    "    turnover_data = []\n",
    "\n",
    "    for end_date, current_date in tqdm(zip(df[\"DateEndRole\"], df[\"date\"]), total=df.shape[0]):\n",
    "        upper_bound = end_date \n",
    "        lower_bound = end_date - pd.DateOffset(months=window)\n",
    "        date_range = pd.period_range(start=lower_bound, end=upper_bound, freq=\"M\")\n",
    "        if current_date in date_range:\n",
    "            turnover_data.append(True)\n",
    "        else:\n",
    "            turnover_data.append(False)\n",
    "            \n",
    "    df[\"Turnover\"] = turnover_data\n",
    "\n",
    "#Creating the \"Turnover\" column for our panel_data with a window of 12 months looking back\n",
    "add_turnover_indicator(panel_data, 12)"
   ]
  },
  {
   "cell_type": "code",
   "execution_count": 256,
   "metadata": {},
   "outputs": [],
   "source": [
    "#Final sorting so that the df is in the order we want\n",
    "panel_data.sort_values(by=[\"CompanyName\",\"DirectorName\",\"date\"], inplace=True)"
   ]
  },
  {
   "cell_type": "code",
   "execution_count": 261,
   "metadata": {},
   "outputs": [],
   "source": [
    "#Exporting - exporting to pkl because csv was taking far too long to export\n",
    "panel_data.to_pickle(\"../../../../ceo_turnover/CEO_v2/directorships.pkl\")"
   ]
  }
 ],
 "metadata": {
  "kernelspec": {
   "display_name": "Python 3",
   "language": "python",
   "name": "python3"
  },
  "language_info": {
   "codemirror_mode": {
    "name": "ipython",
    "version": 3
   },
   "file_extension": ".py",
   "mimetype": "text/x-python",
   "name": "python",
   "nbconvert_exporter": "python",
   "pygments_lexer": "ipython3",
   "version": "3.7.3"
  }
 },
 "nbformat": 4,
 "nbformat_minor": 2
}