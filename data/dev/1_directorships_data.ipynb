{
 "cells": [
  {
   "cell_type": "code",
   "execution_count": 161,
   "metadata": {},
   "outputs": [],
   "source": [
    "import pandas as pd\n",
    "import numpy as np\n",
    "import datetime\n",
    "from tqdm import tqdm"
   ]
  },
  {
   "cell_type": "code",
   "execution_count": 162,
   "metadata": {},
   "outputs": [],
   "source": [
    "#importing the data\n",
    "age_data = pd.read_csv(\"../../../../ceo_turnover/CEO_v2/age_data.csv\")\n",
    "tenure_data = pd.read_csv(\"../../../../ceo_turnover/CEO_v2/tenure_data.csv\")\n",
    "conversion_data = pd.read_csv(\"../../../../ceo_turnover/CEO Turnover Project/Raw Data Files/conversion_dataset.csv\")"
   ]
  },
  {
   "cell_type": "markdown",
   "metadata": {},
   "source": [
    "First we're going to clean the age data"
   ]
  },
  {
   "cell_type": "code",
   "execution_count": 163,
   "metadata": {},
   "outputs": [],
   "source": [
    "#Creating NaN consitency\n",
    "age_data.fillna(\"NaN\", inplace=True)\n",
    "age_data[\"DOB\"].replace(\"n.a.\", \"NaN\", inplace=True)"
   ]
  },
  {
   "cell_type": "code",
   "execution_count": 164,
   "metadata": {},
   "outputs": [],
   "source": [
    "#Creating a function that will get the \"DOB\" column in the format we want. \"DOB\" column has\n",
    "#4 different types of inputs\n",
    "\n",
    "#Type 1: 01 Apr 1918\n",
    "#Type 2: Sep 1945\n",
    "#Type 3: \"1945\"\n",
    "#Type 4: 1945\n",
    "#Type 5: \"NaN\"\n",
    "\n",
    "def correct_dob(date):\n",
    "    if date == \"NaN\":\n",
    "        return \"NaN\"\n",
    "    elif type(date) == int:\n",
    "        return pd.to_datetime(date, format=\"%Y\")\n",
    "    elif len(date.split(\" \")) == 1:\n",
    "        return pd.to_datetime(date, format=\"%Y\")\n",
    "    elif len(date.split(\" \")) == 2:\n",
    "        return pd.to_datetime(date, format=\"%b %Y\")\n",
    "    elif len(date.split(\" \")) == 3:\n",
    "        return pd.to_datetime(date, format=\"%d %b %Y\")\n",
    "    else:\n",
    "        return \"ERROR\"\n",
    "\n",
    "dob_vector = np.vectorize(correct_dob)"
   ]
  },
  {
   "cell_type": "code",
   "execution_count": 165,
   "metadata": {},
   "outputs": [],
   "source": [
    "#Updating the DOB column\n",
    "age_data[\"DOB\"] = dob_vector(age_data[\"DOB\"])"
   ]
  },
  {
   "cell_type": "markdown",
   "metadata": {},
   "source": [
    "Now we're cleaning the tenure data"
   ]
  },
  {
   "cell_type": "code",
   "execution_count": 169,
   "metadata": {},
   "outputs": [],
   "source": [
    "#Dropping the entries that either have an \"N\" in the StartDate or EndDate and dropping directors who have remained in their roles\n",
    "tenure_data.drop(tenure_data[tenure_data[\"DateEndRole\"] == \"N\"].index, inplace=True)\n",
    "tenure_data.drop(tenure_data[tenure_data[\"DateStartRole\"] == \"N\"].index, inplace=True)\n",
    "tenure_data.drop(tenure_data[tenure_data[\"DateEndRole\"] == \"C\"].index, inplace=True)"
   ]
  },
  {
   "cell_type": "code",
   "execution_count": 177,
   "metadata": {},
   "outputs": [],
   "source": [
    "#Converting to \"datetime\" objects\n",
    "tenure_data[\"DateStartRole\"] = tenure_data[\"DateStartRole\"].astype(np.datetime64)\n",
    "tenure_data[\"DateEndRole\"] = tenure_data[\"DateEndRole\"].astype(np.datetime64)"
   ]
  },
  {
   "cell_type": "code",
   "execution_count": 171,
   "metadata": {},
   "outputs": [],
   "source": [
    "#Dealing with the columns that have the Start Date and End Date reversed\n",
    "fixed_entries = tenure_data[tenure_data[\"DateStartRole\"] > tenure_data[\"DateEndRole\"]]\n",
    "fixed_entries.columns = ['CompanyID', 'DirectorID', 'DirectorName', 'CompanyName', 'RoleName', 'DateEndRole', 'DateStartRole', 'Seniority']\n",
    "tenure_data.drop(fixed_entries.index, inplace=True)\n",
    "tenure_data = tenure_data.append(fixed_entries)"
   ]
  },
  {
   "cell_type": "code",
   "execution_count": 172,
   "metadata": {},
   "outputs": [],
   "source": [
    "#Adding the \"DateStartCompany\" and \"DateEndCompany\" columns to facilitate creating the \"company_tenure\" column later on\n",
    "company_starts = tenure_data.groupby(by=[\"CompanyName\",\"DirectorName\", \"RoleName\"])[\"DateStartRole\"].first().groupby(by=\"DirectorName\").min().rename(\"DateStartCompany\")\n",
    "company_ends = tenure_data.groupby(by=[\"CompanyName\",\"DirectorName\", \"RoleName\"])[\"DateEndRole\"].first().groupby(by=\"DirectorName\").max().rename(\"DateEndCompany\")\n",
    "tenure_data = pd.merge(left=tenure_data, right=company_starts, left_on=\"DirectorName\", right_on=company_starts.index)\n",
    "tenure_data = pd.merge(left=tenure_data, right=company_ends, left_on=\"DirectorName\", right_on=company_ends.index)"
   ]
  },
  {
   "cell_type": "markdown",
   "metadata": {},
   "source": [
    "Now we can join the two datasets"
   ]
  },
  {
   "cell_type": "code",
   "execution_count": 173,
   "metadata": {},
   "outputs": [],
   "source": [
    "#Executing the inner join\n",
    "joined_data = pd.merge(left=tenure_data, right=age_data)"
   ]
  },
  {
   "cell_type": "markdown",
   "metadata": {},
   "source": [
    "We're going to join in the dataset that links BoardEx's \"ComapnyID\" with Compustat's \"GVKey\" now because it will spare us from running our script on thousands of rows that we'll eventually drop anyway because we have no financial performance data on them"
   ]
  },
  {
   "cell_type": "code",
   "execution_count": 174,
   "metadata": {},
   "outputs": [],
   "source": [
    "#Joining in the conversion dataset\n",
    "joined_data = pd.merge(left=joined_data, right=conversion_data, left_on=\"CompanyID\", right_on=\"COMPANYID\")"
   ]
  },
  {
   "cell_type": "markdown",
   "metadata": {},
   "source": [
    "We can also safely drop all the non-CEO roles from our dataset because, now that we've calcualted DateStartCompany and DateEndCompany, the company_tenure column can still be calculated"
   ]
  },
  {
   "cell_type": "code",
   "execution_count": 175,
   "metadata": {},
   "outputs": [],
   "source": [
    "#We can drop all non-CEO entries now as the tenures have been calculated - reduces df size from 13,000,000 to 700,000\n",
    "joined_data = joined_data[joined_data[\"RoleName\"].str.contains(\"CEO\")]"
   ]
  },
  {
   "cell_type": "markdown",
   "metadata": {},
   "source": [
    "Here we expand every individual row in the dataframe into a time series and add colums for age, role_tenure, and company_tenure"
   ]
  },
  {
   "cell_type": "code",
   "execution_count": 176,
   "metadata": {},
   "outputs": [],
   "source": [
    "#This function converts our df into a time series, with an entry every month with updated ages, role tenures, and company tenures\n",
    "def make_ts(df):\n",
    "\n",
    "    #Storing all the blown up rows\n",
    "    dfs = []\n",
    "\n",
    "    #Helper function that expands each individual row (i.e. a given director in a given role)\n",
    "    def expand_row(idx, row):\n",
    "\n",
    "        #Declaring key variables for each row\n",
    "        role_start = np.datetime64(row[\"DateStartRole\"], \"M\")\n",
    "        role_end = np.datetime64(row[\"DateEndRole\"], \"M\")\n",
    "        company_start = np.datetime64(row[\"DateStartCompany\"], \"M\")\n",
    "        dob = np.datetime64(row[\"DOB\"], \"M\") if row[\"DOB\"] is not pd.NaT else pd.NaT\n",
    "\n",
    "        #Creating an array that has every month this particular director served in his role\n",
    "        role_range = np.arange(role_start, role_end, dtype=\"M8[M]\")\n",
    "\n",
    "        #Making the panel\n",
    "        current_panel = pd.DataFrame([row]*len(role_range))\n",
    "        current_panel[\"date\"] = role_range\n",
    "        current_panel[\"ages\"] = (role_range - dob) / np.timedelta64(12,'M') if not pd.isna(dob) else pd.NaT\n",
    "        current_panel[\"role_tenure\"] = (role_range - role_start) / np.timedelta64(12,'M')\n",
    "        current_panel[\"company_tenure\"] = (role_range - company_start) / np.timedelta64(12,'M')\n",
    "\n",
    "        return current_panel\n",
    "\n",
    "    #Now we apply expand_row on every row of the df and concatenate them all together at the end\n",
    "    for idx, row in tqdm(df.iterrows(), total=df.shape[0]):\n",
    "        curr_df = expand_row(idx, row)\n",
    "        dfs.append(curr_df)\n",
    "    \n",
    "    #Aggregating\n",
    "    return pd.concat(dfs)"
   ]
  },
  {
   "cell_type": "code",
   "execution_count": null,
   "metadata": {},
   "outputs": [],
   "source": [
    "#Applying the function to create the time series\n",
    "time_series = make_ts(joined_data)"
   ]
  },
  {
   "cell_type": "markdown",
   "metadata": {},
   "source": [
    "Finally, we set the target variable - \"Turnover(T/F)\" - to True if a turnover occured within a given window"
   ]
  },
  {
   "cell_type": "code",
   "execution_count": 183,
   "metadata": {},
   "outputs": [
    {
     "output_type": "stream",
     "name": "stderr",
     "text": "100%|██████████| 757760/757760 [04:48<00:00, 2627.34it/s]\n"
    }
   ],
   "source": [
    "#Adds \"True\" to a row if a turnover occured within a specified window of months before the event\n",
    "#Can't be forward looking because we don't have data on directors after a turnover event occured\n",
    "def add_turnover_indicator(df, window):\n",
    "    \n",
    "    turnover_data = []\n",
    "\n",
    "    for end_date, current_date in tqdm(zip(df[\"DateEndRole\"], df[\"date\"]), total=df.shape[0]):\n",
    "        upper_bound = end_date \n",
    "        lower_bound = end_date - pd.DateOffset(months=window)\n",
    "        date_range = pd.period_range(start=lower_bound, end=upper_bound, freq=\"M\")\n",
    "        if current_date in date_range:\n",
    "            turnover_data.append(True)\n",
    "        else:\n",
    "            turnover_data.append(False)\n",
    "            \n",
    "    df[\"Turnover\"] = turnover_data\n",
    "\n",
    "#Creating the \"Turnover\" column for our panel_data with a window of 12 months looking back\n",
    "add_turnover_indicator(time_series, 12)"
   ]
  },
  {
   "cell_type": "code",
   "execution_count": 185,
   "metadata": {},
   "outputs": [],
   "source": [
    "time_series.to_csv(\"../../../../ceo_turnover/CEO_v2/directorships.csv\")"
   ]
  }
 ],
 "metadata": {
  "kernelspec": {
   "display_name": "Python 3",
   "language": "python",
   "name": "python3"
  },
  "language_info": {
   "codemirror_mode": {
    "name": "ipython",
    "version": 3
   },
   "file_extension": ".py",
   "mimetype": "text/x-python",
   "name": "python",
   "nbconvert_exporter": "python",
   "pygments_lexer": "ipython3",
   "version": "3.7.3-final"
  }
 },
 "nbformat": 4,
 "nbformat_minor": 2
}