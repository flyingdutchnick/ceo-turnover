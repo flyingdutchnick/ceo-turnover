{
 "cells": [
  {
   "cell_type": "markdown",
   "metadata": {},
   "source": [
    "Let's import the necessary libraries and files to get started"
   ]
  },
  {
   "cell_type": "code",
   "execution_count": 9,
   "metadata": {},
   "outputs": [],
   "source": [
    "import numpy as np\n",
    "import pandas as pd\n",
    "\n",
    "import boto3\n",
    "from sagemaker import get_execution_role\n",
    "\n",
    "role = get_execution_role()\n",
    "bucket='ceo-turnover-data'\n",
    "data_key = 'pre_processed_v4_CEO.csv'\n",
    "data_location = 's3://{}/{}'.format(bucket, data_key)\n",
    "\n",
    "data = pd.read_csv(data_location)"
   ]
  },
  {
   "cell_type": "markdown",
   "metadata": {},
   "source": [
    "data is a pandas dataframe storing our preprocessed dataset. Let's print out data.head() to check it imported correctly and see how it's structured"
   ]
  },
  {
   "cell_type": "code",
   "execution_count": 11,
   "metadata": {},
   "outputs": [
    {
     "name": "stdout",
     "output_type": "stream",
     "text": [
      "   Age                                       Company Name   Director Name  \\\n",
      "0   73  COSTCO WHOLESALE CORP (Costco Companies Inc pr...     Jim Sinegal   \n",
      "1   28            Morris & Garritano Insurance Agency Inc  Brendan Morris   \n",
      "2   29  Madison Industries Inc (Madison Capital Partne...   Larry Gies Jr   \n",
      "3   33                              Crowley Maritime Corp  Tom Crowley Jr   \n",
      "4   33                     Enterprise Solutions Group Inc     Savas Karas   \n",
      "\n",
      "   Number of Records               Role Name           Seniority  \\\n",
      "0                  1           President/CEO  Executive Director   \n",
      "1                  1                     CEO  Executive Director   \n",
      "2                  1  Chairman/President/CEO  Executive Director   \n",
      "3                  1  Chairman/President/CEO  Executive Director   \n",
      "4                  1           President/CEO  Executive Director   \n",
      "\n",
      "   Tenure (Years) Turnover (YES/NO)  Year  \n",
      "0               7                NO  2000  \n",
      "1               7                NO  2001  \n",
      "2               7                NO  2001  \n",
      "3               7                NO  2001  \n",
      "4               7                NO  2001  \n"
     ]
    }
   ],
   "source": [
    "print(data.head())"
   ]
  },
  {
   "cell_type": "markdown",
   "metadata": {},
   "source": [
    "Now we're cooking with gas! Let's trim our data to only include predictors and labels."
   ]
  },
  {
   "cell_type": "code",
   "execution_count": 17,
   "metadata": {},
   "outputs": [
    {
     "name": "stdout",
     "output_type": "stream",
     "text": [
      "   Age  Tenure (Years) Turnover (YES/NO)\n",
      "0   73               7                NO\n",
      "1   28               7                NO\n",
      "2   29               7                NO\n",
      "3   33               7                NO\n",
      "4   33               7                NO\n",
      "\n",
      " We have 291294 rows of 3 columns\n"
     ]
    }
   ],
   "source": [
    "data = data[['Age', 'Tenure (Years)', 'Turnover (YES/NO)']]\n",
    "\n",
    "print(data.head())\n",
    "print(\"\\n We have {} rows of {} columns\".format(data.shape[0], data.shape[1]))"
   ]
  },
  {
   "cell_type": "markdown",
   "metadata": {},
   "source": [
    "Let's one-hot encode our label data and store it in a separate array"
   ]
  },
  {
   "cell_type": "code",
   "execution_count": 27,
   "metadata": {},
   "outputs": [
    {
     "name": "stdout",
     "output_type": "stream",
     "text": [
      "We have 25621 turnover events\n"
     ]
    }
   ],
   "source": [
    "y = np.array(data[['Turnover (YES/NO)']])\n",
    "for i in range(data.shape[0]):\n",
    "    y[i] = 0 if y[i] == 'NO' else 1\n",
    "    \n",
    "print(\"We have {} turnover events\".format(int(sum(y))))"
   ]
  },
  {
   "cell_type": "markdown",
   "metadata": {},
   "source": [
    "Aaand let's also put our predictor data in separate array"
   ]
  },
  {
   "cell_type": "code",
   "execution_count": 34,
   "metadata": {},
   "outputs": [
    {
     "name": "stdout",
     "output_type": "stream",
     "text": [
      "The average CEO is 58 years old\n"
     ]
    }
   ],
   "source": [
    "X = np.array(data[['Age', 'Tenure (Years)']])\n",
    "\n",
    "print(\"The average CEO is {} years old\".format(round(int(sum(X[:,0])) / data.shape[0])))"
   ]
  },
  {
   "cell_type": "code",
   "execution_count": null,
   "metadata": {},
   "outputs": [],
   "source": []
  }
 ],
 "metadata": {
  "kernelspec": {
   "display_name": "conda_python3",
   "language": "python",
   "name": "conda_python3"
  },
  "language_info": {
   "codemirror_mode": {
    "name": "ipython",
    "version": 3
   },
   "file_extension": ".py",
   "mimetype": "text/x-python",
   "name": "python",
   "nbconvert_exporter": "python",
   "pygments_lexer": "ipython3",
   "version": "3.6.5"
  }
 },
 "nbformat": 4,
 "nbformat_minor": 4
}
