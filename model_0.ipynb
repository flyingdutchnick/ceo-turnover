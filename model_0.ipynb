{
 "cells": [
  {
   "cell_type": "markdown",
   "metadata": {},
   "source": [
    "Let's import the necessary libraries and files to get started"
   ]
  },
  {
   "cell_type": "code",
   "execution_count": 9,
   "metadata": {},
   "outputs": [],
   "source": [
    "import numpy as np\n",
    "import pandas as pd\n",
    "\n",
    "import boto3\n",
    "from sagemaker import get_execution_role\n",
    "\n",
    "role = get_execution_role()\n",
    "bucket='ceo-turnover-data'\n",
    "data_key = 'pre_processed_v4_CEO.csv'\n",
    "data_location = 's3://{}/{}'.format(bucket, data_key)\n",
    "\n",
    "data = pd.read_csv(data_location)"
   ]
  },
  {
   "cell_type": "markdown",
   "metadata": {},
   "source": [
    "data is a pandas dataframe storing our preprocessed dataset. Let's print out data.head() to check it imported correctly and see how it's structured"
   ]
  },
  {
   "cell_type": "code",
   "execution_count": 8,
   "metadata": {},
   "outputs": [
    {
     "name": "stdout",
     "output_type": "stream",
     "text": [
      "   Age                                       Company Name   Director Name  \\\n",
      "0   73  COSTCO WHOLESALE CORP (Costco Companies Inc pr...     Jim Sinegal   \n",
      "1   28            Morris & Garritano Insurance Agency Inc  Brendan Morris   \n",
      "2   29  Madison Industries Inc (Madison Capital Partne...   Larry Gies Jr   \n",
      "3   33                              Crowley Maritime Corp  Tom Crowley Jr   \n",
      "4   33                     Enterprise Solutions Group Inc     Savas Karas   \n",
      "\n",
      "   Number of Records               Role Name           Seniority  \\\n",
      "0                  1           President/CEO  Executive Director   \n",
      "1                  1                     CEO  Executive Director   \n",
      "2                  1  Chairman/President/CEO  Executive Director   \n",
      "3                  1  Chairman/President/CEO  Executive Director   \n",
      "4                  1           President/CEO  Executive Director   \n",
      "\n",
      "   Tenure (Years) Turnover (YES/NO)  Year  \n",
      "0               7                NO  2000  \n",
      "1               7                NO  2001  \n",
      "2               7                NO  2001  \n",
      "3               7                NO  2001  \n",
      "4               7                NO  2001  \n"
     ]
    }
   ],
   "source": [
    "print(data.head())"
   ]
  },
  {
   "cell_type": "markdown",
   "metadata": {},
   "source": [
    "Now we're cooking with gas!"
   ]
  }
 ],
 "metadata": {
  "kernelspec": {
   "display_name": "conda_python3",
   "language": "python",
   "name": "conda_python3"
  },
  "language_info": {
   "codemirror_mode": {
    "name": "ipython",
    "version": 3
   },
   "file_extension": ".py",
   "mimetype": "text/x-python",
   "name": "python",
   "nbconvert_exporter": "python",
   "pygments_lexer": "ipython3",
   "version": "3.6.5"
  }
 },
 "nbformat": 4,
 "nbformat_minor": 4
}
