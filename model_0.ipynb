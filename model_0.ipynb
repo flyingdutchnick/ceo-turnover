{
 "cells": [
  {
   "cell_type": "markdown",
   "metadata": {},
   "source": [
    "Let's import the necessary libraries and files to get started"
   ]
  },
  {
   "cell_type": "code",
   "execution_count": 16,
   "metadata": {},
   "outputs": [],
   "source": [
    "import numpy as np\n",
    "import pandas as pd\n",
    "\n",
    "import boto3\n",
    "import sagemaker\n",
    "from sagemaker import get_execution_role\n",
    "\n",
    "role = get_execution_role()\n",
    "bucket='ceo-turnover-data'\n",
    "data_key = 'pre_processed_v4_CEO.csv'\n",
    "data_location = 's3://{}/{}'.format(bucket, data_key)\n",
    "\n",
    "data = pd.read_csv(data_location)"
   ]
  },
  {
   "cell_type": "markdown",
   "metadata": {},
   "source": [
    "data is a pandas dataframe storing our preprocessed dataset. Let's print out data.head() to check it imported correctly and see how it's structured"
   ]
  },
  {
   "cell_type": "code",
   "execution_count": 17,
   "metadata": {},
   "outputs": [
    {
     "name": "stdout",
     "output_type": "stream",
     "text": [
      "   Age                                       Company Name   Director Name  \\\n",
      "0   73  COSTCO WHOLESALE CORP (Costco Companies Inc pr...     Jim Sinegal   \n",
      "1   28            Morris & Garritano Insurance Agency Inc  Brendan Morris   \n",
      "2   29  Madison Industries Inc (Madison Capital Partne...   Larry Gies Jr   \n",
      "3   33                              Crowley Maritime Corp  Tom Crowley Jr   \n",
      "4   33                     Enterprise Solutions Group Inc     Savas Karas   \n",
      "\n",
      "   Number of Records               Role Name           Seniority  \\\n",
      "0                  1           President/CEO  Executive Director   \n",
      "1                  1                     CEO  Executive Director   \n",
      "2                  1  Chairman/President/CEO  Executive Director   \n",
      "3                  1  Chairman/President/CEO  Executive Director   \n",
      "4                  1           President/CEO  Executive Director   \n",
      "\n",
      "   Tenure (Years) Turnover (YES/NO)  Year  \n",
      "0               7                NO  2000  \n",
      "1               7                NO  2001  \n",
      "2               7                NO  2001  \n",
      "3               7                NO  2001  \n",
      "4               7                NO  2001  \n"
     ]
    }
   ],
   "source": [
    "print(data.head())"
   ]
  },
  {
   "cell_type": "markdown",
   "metadata": {},
   "source": [
    "Now we're cooking with gas! Let's trim our data to only include predictors and labels."
   ]
  },
  {
   "cell_type": "code",
   "execution_count": 18,
   "metadata": {},
   "outputs": [
    {
     "name": "stdout",
     "output_type": "stream",
     "text": [
      "  Turnover (YES/NO)  Age  Tenure (Years)\n",
      "0                NO   73               7\n",
      "1                NO   28               7\n",
      "2                NO   29               7\n",
      "3                NO   33               7\n",
      "4                NO   33               7\n",
      "\n",
      " We have 291294 rows of 3 columns\n"
     ]
    }
   ],
   "source": [
    "data = data[['Turnover (YES/NO)', 'Age', 'Tenure (Years)']]\n",
    "\n",
    "print(data.head())\n",
    "print(\"\\n We have {} rows of {} columns\".format(data.shape[0], data.shape[1]))"
   ]
  },
  {
   "cell_type": "markdown",
   "metadata": {},
   "source": [
    "One-hot encode our label data and store it in a separate array"
   ]
  },
  {
   "cell_type": "code",
   "execution_count": 19,
   "metadata": {},
   "outputs": [
    {
     "name": "stdout",
     "output_type": "stream",
     "text": [
      "  Turnover (YES/NO)  Age  Tenure (Years)\n",
      "0                NO   73               7\n",
      "1                NO   28               7\n",
      "2                NO   29               7\n",
      "3                NO   33               7\n",
      "4                NO   33               7\n"
     ]
    }
   ],
   "source": [
    "pre_y = np.array(data[['Turnover (YES/NO)']])\n",
    "y = np.zeros((data.shape[0], 1))\n",
    "\n",
    "for i in range(data.shape[0]):\n",
    "    if pre_y[i] == 'YES':\n",
    "        y[i] = 1\n",
    "        \n",
    "print(data.head())"
   ]
  },
  {
   "cell_type": "code",
   "execution_count": 29,
   "metadata": {},
   "outputs": [
    {
     "name": "stdout",
     "output_type": "stream",
     "text": [
      "   pred  Age  Tenure (Years)\n",
      "0   0.0   73               7\n",
      "1   0.0   28               7\n",
      "2   0.0   29               7\n",
      "3   0.0   33               7\n",
      "4   0.0   33               7\n"
     ]
    }
   ],
   "source": [
    "data[\"pred\"] = y\n",
    "\n",
    "model_data = data[[\"pred\", \"Age\", \"Tenure (Years)\"]]\n",
    "\n",
    "print(model_data.head())"
   ]
  },
  {
   "cell_type": "markdown",
   "metadata": {},
   "source": [
    "Now time to import sagemaker and instantiate the model (Boilerplate imports)"
   ]
  },
  {
   "cell_type": "code",
   "execution_count": 30,
   "metadata": {},
   "outputs": [],
   "source": [
    "import boto3\n",
    "import re\n",
    "from sagemaker import get_execution_role\n",
    "\n",
    "import pandas as pd\n",
    "import numpy as np\n",
    "import matplotlib.pyplot as plt\n",
    "import io\n",
    "import os\n",
    "import sys\n",
    "import time\n",
    "import json\n",
    "from IPython.display import display\n",
    "from time import strftime, gmtime\n",
    "from sagemaker.predictor import csv_serializer"
   ]
  },
  {
   "cell_type": "markdown",
   "metadata": {},
   "source": [
    "Split that data and csv it"
   ]
  },
  {
   "cell_type": "code",
   "execution_count": 32,
   "metadata": {},
   "outputs": [],
   "source": [
    "# we should come up with a better way to split the data\n",
    "# ex. by company, by individual\n",
    "train_data, validation_data, test_data = np.split(model_data.sample(frac=1, random_state=1729), [int(0.7 * len(model_data)), int(0.9 * len(model_data))])\n",
    "\n",
    "\n",
    "train_data.to_csv('train.csv', header=False, index=False)\n",
    "\n",
    "# no need to save the other sets as csvs for now\n",
    "validation_data.to_csv('validation.csv', header=False, index=False)\n",
    "# test_data.to_csv('test.csv', header=False, index=False)"
   ]
  },
  {
   "cell_type": "markdown",
   "metadata": {},
   "source": [
    "Now to upload these files to S3.. fingers crossed!"
   ]
  },
  {
   "cell_type": "code",
   "execution_count": 41,
   "metadata": {},
   "outputs": [],
   "source": [
    "boto3.Session().resource('s3').Bucket(bucket).Object(os.path.join('', 'train/train_data_0.csv')).upload_file('train.csv')\n",
    "\n",
    "# no need to upload the other sets to S3 for now\n",
    "boto3.Session().resource('s3').Bucket(bucket).Object(os.path.join('', 'train/validation_data_0.csv')).upload_file('validation.csv')"
   ]
  },
  {
   "cell_type": "markdown",
   "metadata": {},
   "source": [
    "Get model in a container"
   ]
  },
  {
   "cell_type": "code",
   "execution_count": 42,
   "metadata": {},
   "outputs": [],
   "source": [
    "from sagemaker.amazon.amazon_estimator import get_image_uri\n",
    "container = get_image_uri(boto3.Session().region_name, 'xgboost', repo_version='0.90-1')"
   ]
  },
  {
   "cell_type": "code",
   "execution_count": 43,
   "metadata": {},
   "outputs": [],
   "source": [
    "s3_input_train = sagemaker.s3_input(s3_data='s3://{}/train/train_data_0.csv'.format(bucket), content_type='csv')\n",
    "s3_input_validation = sagemaker.s3_input(s3_data='s3://{}/train/validation_data_0'.format(bucket), content_type='csv')"
   ]
  },
  {
   "cell_type": "code",
   "execution_count": 44,
   "metadata": {},
   "outputs": [],
   "source": [
    "sess = sagemaker.Session()"
   ]
  },
  {
   "cell_type": "code",
   "execution_count": 45,
   "metadata": {},
   "outputs": [],
   "source": [
    "xgb = sagemaker.estimator.Estimator(container,\n",
    "                                    role, \n",
    "                                    train_instance_count=1, \n",
    "                                    train_instance_type='ml.m4.xlarge',\n",
    "                                    output_path='s3://{}/output'.format(bucket),\n",
    "                                    sagemaker_session=sess)"
   ]
  },
  {
   "cell_type": "code",
   "execution_count": 49,
   "metadata": {},
   "outputs": [],
   "source": [
    "xgb.set_hyperparameters(max_depth=5,\n",
    "                        eta=0.2,\n",
    "                        gamma=4,\n",
    "                        min_child_weight=6,\n",
    "                        subsample=0.8,\n",
    "                        silent=0,\n",
    "                        objective='binary:logistic',\n",
    "                        num_round=10)"
   ]
  },
  {
   "cell_type": "code",
   "execution_count": 50,
   "metadata": {},
   "outputs": [
    {
     "name": "stdout",
     "output_type": "stream",
     "text": [
      "2020-02-25 06:12:32 Starting - Starting the training job...\n",
      "2020-02-25 06:12:33 Starting - Launching requested ML instances...\n",
      "2020-02-25 06:13:30 Starting - Preparing the instances for training......\n",
      "2020-02-25 06:14:20 Downloading - Downloading input data...\n",
      "2020-02-25 06:14:45 Training - Downloading the training image..\u001b[34mINFO:sagemaker-containers:Imported framework sagemaker_xgboost_container.training\u001b[0m\n",
      "\u001b[34mINFO:sagemaker-containers:Failed to parse hyperparameter objective value binary:logistic to Json.\u001b[0m\n",
      "\u001b[34mReturning the value itself\u001b[0m\n",
      "\u001b[34mINFO:sagemaker-containers:No GPUs detected (normal if no gpus installed)\u001b[0m\n",
      "\u001b[34mINFO:sagemaker_xgboost_container.training:Running XGBoost Sagemaker in algorithm mode\u001b[0m\n",
      "\u001b[34mINFO:root:Determined delimiter of CSV input is ','\u001b[0m\n",
      "\u001b[34mINFO:root:Determined delimiter of CSV input is ','\u001b[0m\n",
      "\u001b[34mINFO:root:Determined delimiter of CSV input is ','\u001b[0m\n",
      "\u001b[34m[06:15:11] 203905x2 matrix with 407810 entries loaded from /opt/ml/input/data/train?format=csv&label_column=0&delimiter=,\u001b[0m\n",
      "\u001b[34mINFO:root:Determined delimiter of CSV input is ','\u001b[0m\n",
      "\u001b[34m[06:15:11] 58259x2 matrix with 116518 entries loaded from /opt/ml/input/data/validation?format=csv&label_column=0&delimiter=,\u001b[0m\n",
      "\u001b[34mINFO:root:Single node training.\u001b[0m\n",
      "\u001b[34mINFO:root:Train matrix has 203905 rows\u001b[0m\n",
      "\u001b[34mINFO:root:Validation matrix has 58259 rows\u001b[0m\n",
      "\u001b[34m[0]#011train-error:0.088262#011validation-error:0.08706\u001b[0m\n",
      "\u001b[34m[1]#011train-error:0.088262#011validation-error:0.08706\u001b[0m\n",
      "\u001b[34m[2]#011train-error:0.088262#011validation-error:0.08706\u001b[0m\n",
      "\u001b[34m[3]#011train-error:0.088262#011validation-error:0.08706\u001b[0m\n",
      "\u001b[34m[4]#011train-error:0.088262#011validation-error:0.08706\u001b[0m\n",
      "\u001b[34m[5]#011train-error:0.088262#011validation-error:0.08706\u001b[0m\n",
      "\u001b[34m[6]#011train-error:0.088262#011validation-error:0.08706\u001b[0m\n",
      "\u001b[34m[7]#011train-error:0.088262#011validation-error:0.08706\u001b[0m\n",
      "\u001b[34m[8]#011train-error:0.088262#011validation-error:0.08706\u001b[0m\n",
      "\u001b[34m[9]#011train-error:0.088262#011validation-error:0.08706\u001b[0m\n",
      "\n",
      "2020-02-25 06:15:21 Uploading - Uploading generated training model\n",
      "2020-02-25 06:15:21 Completed - Training job completed\n",
      "Training seconds: 61\n",
      "Billable seconds: 61\n"
     ]
    }
   ],
   "source": [
    "xgb.fit({'train': s3_input_train, 'validation': s3_input_validation})"
   ]
  },
  {
   "cell_type": "code",
   "execution_count": null,
   "metadata": {},
   "outputs": [],
   "source": []
  }
 ],
 "metadata": {
  "kernelspec": {
   "display_name": "conda_python3",
   "language": "python",
   "name": "conda_python3"
  },
  "language_info": {
   "codemirror_mode": {
    "name": "ipython",
    "version": 3
   },
   "file_extension": ".py",
   "mimetype": "text/x-python",
   "name": "python",
   "nbconvert_exporter": "python",
   "pygments_lexer": "ipython3",
   "version": "3.6.5"
  }
 },
 "nbformat": 4,
 "nbformat_minor": 4
}
